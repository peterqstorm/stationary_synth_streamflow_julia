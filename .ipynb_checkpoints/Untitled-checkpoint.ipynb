{
 "cells": [
  {
   "cell_type": "code",
   "execution_count": 1,
   "metadata": {},
   "outputs": [],
   "source": [
    "using Pkg\n",
    "# push!( LOAD_PATH, \"./\" )\n",
    "# using stationary_generator\n",
    "using Base\n",
    "using CSV\n",
    "using Tables\n",
    "using LinearAlgebra\n",
    "using ElasticArrays"
   ]
  },
  {
   "cell_type": "code",
   "execution_count": 2,
   "metadata": {},
   "outputs": [
    {
     "data": {
      "text/plain": [
       "convert_data_to_monthly (generic function with 1 method)"
      ]
     },
     "execution_count": 2,
     "metadata": {},
     "output_type": "execute_result"
    }
   ],
   "source": [
    "# all code adapted from Matteo Giuliani, Jon Herman and Julianne Quinn\n",
    "# at https://github.com/julianneq/Kirsch-Nowak_Streamflow_Generator\n",
    "# specifically within this directory: https://github.com/julianneq/Kirsch-Nowak_Streamflow_Generator/tree/master/stationary_generator\n",
    "# most comments are copied from the code on the github\n",
    "\n",
    "using LinearAlgebra\n",
    "using Statistics\n",
    "using ElasticArrays\n",
    "function cholesky_corr(Z)\n",
    "    # Computes the cholesky decomp of correlation matrix of columns of Z\n",
    "    # Then attempts to repair non-positive-definite matrics\n",
    "    # Code adapted from https://github.com/julianneq/Kirsch-Nowak_Streamflow_Generator/blob/master/stationary_generator/chol_corr.m\n",
    "    # http://www.mathworks.com/matlabcentral/answers/6057-repair-non-positive-definite-correlation-matrix\n",
    "    # rank-1 update followed by rescaling to get unit diagonal entries\n",
    "\n",
    "\n",
    "    R = Statistics.cor(Z)\n",
    "    U = cholesky!(R, check=true)\n",
    "\n",
    "    #check if positive definite, otherwise modify slightly until true\n",
    "    while issuccess(U) == false\n",
    "        k = min([real(eigh(R)) - 1 * eps()])\n",
    "        R = R - k * Matrix{Float64}(I, size(R), size(R))\n",
    "        R = R / R[1, 1]\n",
    "        U = cholesky!(R)\n",
    "    end\n",
    "\n",
    "    return U.U\n",
    "end\n",
    "\n",
    "\n",
    "function convert_data_to_monthly(Qt)\n",
    "\n",
    "\n",
    "    num_years = size(Qt, 1) / 365   #first dimension of input array\n",
    "    num_sites = size(Qt, 2)\n",
    "\n",
    "    num_months = 12\n",
    "    days_in_each_month = [31, 28, 31, 30, 31, 30, 31, 31, 30, 31, 30, 31]\n",
    "\n",
    "    #potential area to improve speed\n",
    "    Qmonthly = Any[]\n",
    "    for i = 1:num_sites\n",
    "       push!(Qmonthly, zeros(Float64, convert(Int, round(num_years)), convert(Int, round(num_months))))\n",
    "    end\n",
    "\n",
    "    for yr = 1:num_years\n",
    "        for mo = 1:num_months\n",
    "\n",
    "            start = convert(Int, (yr - 1) * 365 + sum(days_in_each_month[1:(mo - 1)]) + 1)\n",
    "\n",
    "            for i = 1:num_sites\n",
    "                Qmonthly[i][convert(Int, yr), mo] = 86400 * sum(Qt[start:start + days_in_each_month[mo] - 1, i])\n",
    "            end\n",
    "\n",
    "        end\n",
    "    end\n",
    "\n",
    "    return Qmonthly\n",
    "end\n",
    "\n",
    "\n",
    "\n",
    "\n",
    "\n",
    "\n",
    "\n",
    "\n"
   ]
  },
  {
   "cell_type": "code",
   "execution_count": 3,
   "metadata": {},
   "outputs": [
    {
     "data": {
      "text/plain": [
       "monthly_main (generic function with 1 method)"
      ]
     },
     "execution_count": 3,
     "metadata": {},
     "output_type": "execute_result"
    }
   ],
   "source": [
    "\n",
    "function monthly_main( hist_data, nR, nY)\n",
    "\n",
    "    num_years  = size(hist_data, 1) / 365\n",
    "    num_sites = size(hist_data, 2)\n",
    "\n",
    "    # from daily to monthly\n",
    "    Qh = convert_data_to_monthly(hist_data)\n",
    "    # initialize output\n",
    "    qq = Array{Array}(undef, num_sites)  #(4, 100, 1200)\n",
    "    \n",
    "    for i = 1:num_sites\n",
    "       qq[i] =  Array{Float64}(undef, nR, nY * 12)\n",
    "    end\n",
    "\n",
    "#     generate data\n",
    "    for r = 1:nR\n",
    "        Qs = monthly_gen(Qh, nY)\n",
    "\n",
    "        for k = 1:num_sites\n",
    "            qq[k][r, :] = reshape(Qs[1], 1, :)\n",
    "        end\n",
    "    end\n",
    "#     #output matrix\n",
    "#     Qgen = Array{Array}(undef, nR) #(100, 1200, 4)\n",
    "    \n",
    "#     for i = 1:nR\n",
    "#        Qgen[i] = zeros(nY * 12, num_sites) \n",
    "#     end\n",
    "\n",
    "#     for k = 1:num_sites\n",
    "#         Qgen[:, :, k] = qq[k]\n",
    "#     end\n",
    "    return qq\n",
    "end\n"
   ]
  },
  {
   "cell_type": "code",
   "execution_count": 4,
   "metadata": {},
   "outputs": [
    {
     "data": {
      "text/plain": [
       "KNN_identification (generic function with 1 method)"
      ]
     },
     "execution_count": 4,
     "metadata": {},
     "output_type": "execute_result"
    }
   ],
   "source": [
    "\n",
    "function KNN_identification(Z, Qtotals, month)\n",
    "    # [KNN_id, W] = KNN_identification[ Z, Qtotals, month, k ]\n",
    "    #\n",
    "    # Identification of K-nearest neighbors of Z in the historical annual data\n",
    "    # z and computation of the associated weights W.\n",
    "    #\n",
    "    # Input:    Z = synthetic datum [scalar]\n",
    "    #           Qtotals = total monthly flows at all sites for all historical months \n",
    "    #             within +/- 7 days of the month being disaggregated\n",
    "    #           month = month being disaggregated\n",
    "    #           k = number of nearest neighbors (by default k=n_year^0.5\n",
    "    #             according to Lall and Sharma [1996])\n",
    "    # Output:   KNN_id = indices of the first K-nearest neighbors of Z in the\n",
    "    #             the historical annual data z\n",
    "    #           W = nearest neighbors weights, according to Lall and Sharma\n",
    "    #             (1996): W[i] = (1/i) / (sum(1/i)) \n",
    "    #\n",
    "    #\n",
    "\n",
    "    # Ntotals is the number of historical monthly patterns used for disaggregation.\n",
    "    # A pattern is a sequence of ndays of daily flows, where ndays is the\n",
    "    # number of days in the month being disaggregated. Patterns are all()\n",
    "    # historical sequences of length ndays beginning within 7 days before or\n",
    "    # after the 1st day of the month being disaggregated.    \n",
    "\n",
    "    # nearest neighbors identification\n",
    "    # only look at neighbors from the same month +/- 7 days\n",
    "    n_sites = size(Qtotals[1], 2)\n",
    "\n",
    "    n_totals = size(Qtotals[1], 1)\n",
    "\n",
    "    k = round(sqrt(n_totals))\n",
    "\n",
    "    \n",
    "    delta = zeros(n_totals)     # first and last month have 7 less possible shifts\n",
    "    for i = 1:n_totals\n",
    "        for j = 1:n_sites\n",
    "            delta[i] = (Qtotals[month][i, j] - Z[j]) ^ 2\n",
    "        end\n",
    "    end\n",
    "\n",
    "    Y = [collect(1:size(delta, 1))', delta]\n",
    "\n",
    "    sort!(Y, by = x -> x[2])\n",
    "\n",
    "    KNN_id = zeros(Int(k))\n",
    "    for i in 1:Int(k)\n",
    "\n",
    "        KNN_id[i] = Y[1][i]\n",
    "    end\n",
    "\n",
    "    # computation of the weights\n",
    "    f = zeros(Int(k))\n",
    "    count_f = 0\n",
    "    for i = 1:Int(k)\n",
    "        count_f += 1\n",
    "        f[i] = 1 / count_f\n",
    "    end\n",
    "    \n",
    "    weights = f ./ sum(f)\n",
    "\n",
    "    return KNN_id, weights\n",
    "end\n"
   ]
  },
  {
   "cell_type": "code",
   "execution_count": 6,
   "metadata": {},
   "outputs": [
    {
     "data": {
      "text/plain": [
       "KNN_sampling (generic function with 1 method)"
      ]
     },
     "execution_count": 6,
     "metadata": {},
     "output_type": "execute_result"
    }
   ],
   "source": [
    "function KNN_sampling(KNN_id, indices, weights_cumm, Qdaily, month)\n",
    "    # py = KNN_sampling[ KKN_id, indices, Wcum, Qdaily, month ]\n",
    "    #\n",
    "    # Selection of one KNN according to the probability distribution defined by\n",
    "    # the weights W.\n",
    "    #\n",
    "    # Input:    KNN_id = indices of the first K-nearest neighbors\n",
    "    #           indices = n x 2 matrix where n is the number of monthly totals\n",
    "    #             and the 2 columns store the historical year in which each\n",
    "    #             monthly total begins, and the number of shift index\n",
    "    #             where 1 is 7 days earlier and 15 is 7 days later\n",
    "    #           Wcum = cumulated probability for each nearest neighbor\n",
    "    #           Qdaily = historical data\n",
    "    #           month = month being disaggregated\n",
    "    # Output:   py = selected proportion vector corresponding to the sampled\n",
    "    #             shifted historical month\n",
    "    #           yearID = randomly selected monthly total [row to select from indices]\n",
    "    #\n",
    "    # \n",
    "\n",
    "    #Randomly select one of the k-NN using the Lall and Sharma density\n",
    "    #estimator\n",
    "\n",
    "\n",
    "    r = rand()\n",
    "    \n",
    "    prepend!(weights_cumm, 0)\n",
    "    KNNs = 0\n",
    "    for i = 1:length(weights_cumm)-1\n",
    "        if(r > weights_cumm[i]) && (r <= weights_cumm[i + 1])\n",
    "            KNNs = i\n",
    "        end      \n",
    "    end\n",
    "    yearID = Int(KNN_id[KNNs])\n",
    "\n",
    "    # concatenate last 7 days of last year before first 7 days of first year\n",
    "    # and first 7 days of first year after last 7 days of last year\n",
    "    nrows = size(Qdaily, 1)\n",
    "    QDaily = [Qdaily[nrows-7:nrows,:]; Qdaily; Qdaily[1:8,:]]\n",
    "\n",
    "\n",
    "    #shift historical data to get nearest neighbor corresponding to yearID\n",
    "    year = Int(indices[yearID, 1])\n",
    "    k = Int(indices[yearID, 2])\n",
    "\n",
    "    shifted_Qdaily = Qdaily[k + 1:Int(k + nrows), :]\n",
    "\n",
    "\n",
    "    days_in_each_month = [31, 28, 31, 30, 31, 30, 31, 31, 30, 31, 30, 31]\n",
    "    start = (year - 1) * 365 + sum(days_in_each_month[1:(month - 1)]) + 1\n",
    "    daily_flows = shifted_Qdaily[start:start + days_in_each_month[month] - 1, :]\n",
    "\n",
    "    py = zeros(size(daily_flows, 1), size(daily_flows, 2))\n",
    "    for i = 1:size(QDaily, 2)\n",
    "        py[:, i] = daily_flows[:, i] / sum(daily_flows[:, i])\n",
    "    end\n",
    "\n",
    "    return py, yearID\n",
    "end"
   ]
  },
  {
   "cell_type": "code",
   "execution_count": 195,
   "metadata": {},
   "outputs": [
    {
     "data": {
      "text/plain": [
       "combined_generator (generic function with 1 method)"
      ]
     },
     "execution_count": 195,
     "metadata": {},
     "output_type": "execute_result"
    }
   ],
   "source": [
    "function combined_generator(hist_data, nR, nY)\n",
    "\n",
    "    num_sites = size(hist_data, 2)\n",
    "\n",
    "\n",
    "    # generation of monthly data via Kirsch et al. (2013):\n",
    "    # Kirsch, B. R., G. W. Characklis, and H. B. Zeff [2013], \n",
    "    # Evaluating the impact of alternative hydro-climate scenarios on transfer \n",
    "    # agreements: Practical improvement for generating synthetic streamflows, \n",
    "    # Journal of Water Resources Planning and Management, 139[4], 396–406.\n",
    "    QQg       = monthly_main(hist_data, nR, nY)\n",
    "    Qh        = convert_data_to_monthly(hist_data)\n",
    "    num_years = size(Qh[1], 1)\n",
    "\n",
    "\n",
    "    # disaggregation from monthly to daily time step as in Nowak et al. (2010):\n",
    "    # Nowak, K., Prairie, J., Rajagopalan, B., & Lall, U. (2010). \n",
    "    # A nonparametric stochastic approach for multisite disaggregation of \n",
    "    # annual to daily streamflow. Water Resources Research, 46[8].\n",
    "\n",
    "    # Find K-nearest neighbors [KNN] in terms of total monthly flow and \n",
    "    # randomly select one for disaggregation. Proportionally scale the flows in\n",
    "    # the selected neighbor to match the synthetic monthly total. To\n",
    "    # disaggregate Jan Flows, consider all historical January totals +/- 7\n",
    "    # days, etc.\n",
    "    Dt = 3600 * 24\n",
    "    days_in_each_month = [31, 28, 31, 30, 31, 30, 31, 31, 30, 31, 30, 31]\n",
    "    \n",
    "    D = Array{Array}(undef, nR)\n",
    "    dd = []\n",
    "    \n",
    "\n",
    "    # concatenate last 7 days of last year before first 7 days of first year\n",
    "    # and first 7 days of first year after last 7 days of last year\n",
    "    nrows = size(hist_data, 1)\n",
    "    extra_hist_data = [hist_data[nrows-7:nrows,:]; hist_data; hist_data[1:8,:]]\n",
    "\n",
    "    Qtotals  = Array{Array}(undef, 12)\n",
    "    Qindices = Array{Array}(undef, 12)\n",
    "\n",
    "\n",
    "    # find monthly totals for all months +/- 7 days\n",
    "    for i = 1:12\n",
    "        count = 1\n",
    "\n",
    "        if i == 1 || i == 12\n",
    "            nTotals = num_years * 15 - 7     # 7 fewer shifts in first and last month\n",
    "        else\n",
    "            nTotals = num_years * 15\n",
    "        end\n",
    "\n",
    "        Qmonthly_shifted = zeros(nTotals, num_sites)\n",
    "        indices          = zeros(nTotals, 2)\n",
    "\n",
    "        for k = 1:15\n",
    "            shifted_hist_data = extra_hist_data[k: k + nrows - 1, :]\n",
    "            Qh = convert_data_to_monthly(shifted_hist_data)\n",
    "\n",
    "            for j = 1:num_sites\n",
    "                if i == 1 && k < 8\n",
    "                    Qh[j] = Qh[j][2:size(Qh[j], 1), i]     # remove first year\n",
    "                elseif i == 12 && k > 8\n",
    "                    Qh[j] = Qh[j][1:size(Qh[j], 1) - 1, i] # remove last year\n",
    "                end\n",
    "                \n",
    "                Qmonthly_shifted[count:(count + size(Qh[j], 1) - 1), 1] = Qh[j][:, 1]\n",
    "            end\n",
    "            \n",
    "            if i == 1 && k < 8\n",
    "                indices[count: (count + size(Qh[1], 1) - 1), 1] = 2:(size(Qh[1], 1) + 1)\n",
    "            else\n",
    "                indices[count: (count + size(Qh[1], 1) - 1), 1] = 1:(size(Qh[1], 1))\n",
    "            end\n",
    "            indices[count:(count + size(Qh[1], 1) - 1), 2]\n",
    "\n",
    "            count = count + size(Qh[1], 1)\n",
    "        end\n",
    "\n",
    "        Qtotals[i]  =  Qmonthly_shifted\n",
    "        Qindices[i] = indices   #indices have zeros in it. Not correct\n",
    "\n",
    "    end\n",
    "\n",
    "\n",
    "\n",
    "    @time for r = 1:nR\n",
    "\n",
    "         \n",
    "        count_count = 0\n",
    "        for i = 1:nY * 12\n",
    "#             println(\"loop: $i\")\n",
    "            # monthly value for all sites\n",
    "            Z = Array{Float64}(undef, num_sites)\n",
    "            for v = 1:num_sites\n",
    "                Z[v] = QQg[v][r, i]\n",
    "            end\n",
    "\n",
    "            #KNN and weights\n",
    "            month = mod(i, 12)\n",
    "            if month == 0\n",
    "                month = 12\n",
    "            end\n",
    "\n",
    "            KNN_id, W = KNN_identification(Z, Qtotals, month)\n",
    "            Wcum = cumsum(W)\n",
    "\n",
    "\n",
    "               #sampling of one KNN\n",
    "            py = KNN_sampling(KNN_id, Qindices[month], Wcum, hist_data, month)[1]\n",
    "            \n",
    "            d = Array{Float64}(undef, num_sites, size(py, 1))\n",
    "\n",
    "            for j = 1:Int(num_sites)\n",
    "\n",
    "\n",
    "                new_d = reshape(py[:, j], size(py, 1), :) * Z[j]\n",
    "                \n",
    "                d[j, :] =  new_d'\n",
    "            end\n",
    "            \n",
    "            \n",
    "            if count_count != 0\n",
    "                dd = hcat(dd, d)\n",
    "\n",
    "            else\n",
    "\n",
    "                dd = similar(d)\n",
    "                dd =  d\n",
    "            end\n",
    "            \n",
    "            count_count += 1\n",
    "\n",
    "        end\n",
    "\n",
    "        D[r] = dd' ./ Dt   #dims(nR)(, num_sites, )\n",
    "\n",
    "\n",
    "    end\n",
    "    \n",
    "\n",
    "    return D\n",
    "\n",
    "end\n"
   ]
  },
  {
   "cell_type": "code",
   "execution_count": 53,
   "metadata": {},
   "outputs": [
    {
     "data": {
      "text/plain": [
       "monthly_gen (generic function with 1 method)"
      ]
     },
     "execution_count": 53,
     "metadata": {},
     "output_type": "execute_result"
    }
   ],
   "source": [
    "function monthly_gen(Q_historical, num_years)\n",
    "\n",
    "    num_points = length(Q_historical)\n",
    "    num_Q_hist = length(Q_historical[1][:,1])\n",
    "\n",
    "    #error checking\n",
    "    for i = 2:num_points\n",
    "        if length(Q_historical[i][:,1]) != num_Q_hist\n",
    "            error(\"All matrices in Q_historical must be the same size.\")\n",
    "        end\n",
    "    end\n",
    "\n",
    "    num_years = num_years + 1      #adjusts for their new corr technique\n",
    "\n",
    "    nQ = num_Q_hist\n",
    "    random_matrix = rand(1:nQ, num_years, 12)\n",
    "\n",
    "    Qs = Array{Array}(undef, num_points)\n",
    "\n",
    "    for k = 1: num_points\n",
    "        Q_matrix = Q_historical[k]\n",
    "\n",
    "        logQ = log.(Q_matrix)\n",
    "\n",
    "        monthly_mean  = zeros(1, 12)\n",
    "        monthly_stdev = zeros(1, 12)\n",
    "        Z             = zeros(nQ, 12)\n",
    "\n",
    "\n",
    "        for i = 1:12\n",
    "            monthly_mean[i]  = mean(logQ[:, i])\n",
    "            monthly_stdev[i] = Statistics.std(logQ[:, i])\n",
    "            Z[:,i] = (logQ[:, i] .- monthly_mean[i]) ./ monthly_stdev[i]\n",
    "        end\n",
    "        \n",
    "\n",
    "        Z_vector = reshape(Z', 1, :)\n",
    "        \n",
    "        Z_shifted = reshape(Z_vector[7:(nQ * 12 - 6)], 12, :)'\n",
    "\n",
    "\n",
    "        # The correlation matrices should use the historical Z's\n",
    "        # (the \"appended years\" do not preserve correlation)\n",
    "        U = cholesky_corr(Z[1:num_Q_hist, :])\n",
    "\n",
    "        \n",
    "        \n",
    "        U_shifted = cholesky_corr(Z_shifted[1: num_Q_hist - 1, :])\n",
    "\n",
    "        Qs_uncorr = zeros(12, num_years)\n",
    "        for i = 1:12\n",
    "            Qs_uncorr[i, :] = Z[random_matrix[:, i], i]\n",
    "        end\n",
    "        Qs_uncorr = reshape(Qs_uncorr, :, 12)\n",
    "\n",
    "        Qs_uncorr_vector   = reshape(Qs_uncorr[:, :]', 1, :)\n",
    "        Qs_uncorr_shifted  = reshape(Qs_uncorr_vector[7:(num_years * 12 - 6)], 12, :)'\n",
    "        \n",
    "        \n",
    "        \n",
    "        \n",
    "        Qs_uncorr = Qs_uncorr * I\n",
    "        U         = U * I\n",
    "        Qs_corr   = Qs_uncorr * U\n",
    "        \n",
    "        U_shifted          = U_shifted * I\n",
    "        Qs_uncorr_shifted  = Qs_uncorr_shifted * I\n",
    "        \n",
    "\n",
    "        Qs_corr_shifted    = Qs_uncorr_shifted * U_shifted\n",
    "        \n",
    "        Qs_log = similar(Qs_corr_shifted)\n",
    "        Qs_log[:, 1:6]  = Qs_corr_shifted[:, 7:12]\n",
    "        Qs_log[:, 7:12] = Qs_corr[2:num_years, 7:12]\n",
    "\n",
    "        \n",
    "        \n",
    "        Qsk = Array{Float64}(undef, 12, num_years - 1)\n",
    "        \n",
    "        for i = 1:12\n",
    "            add_element = reshape(exp.(Qs_log[:, i] .* monthly_stdev[i] .+ monthly_mean[i]), 1, :)\n",
    "            Qsk[i, :] = add_element[:, :]\n",
    "        end\n",
    "\n",
    "        Qsk = transpose(Qsk)\n",
    "\n",
    "        Qs[k] = Qsk'\n",
    "    end\n",
    "\n",
    "   return Qs \n",
    "end"
   ]
  },
  {
   "cell_type": "code",
   "execution_count": 196,
   "metadata": {
    "scrolled": true
   },
   "outputs": [
    {
     "name": "stdout",
     "output_type": "stream",
     "text": [
      "181.647631 seconds (2.53 G allocations: 312.259 GiB, 13.89% gc time)\n"
     ]
    },
    {
     "data": {
      "text/plain": [
       "100-element Array{Array,1}:\n",
       " [65526.9 65526.9 65526.9 57900.3; 61614.9 61614.9 61614.9 57558.2; … ; 84589.3 84589.3 84589.3 93861.2; 82125.6 82125.6 82125.6 93560.9]             \n",
       " [57173.3 57173.3 57173.3 17709.9; 48409.5 48409.5 48409.5 17460.7; … ; 18213.9 18213.9 18213.9 21634.2; 13660.4 13660.4 13660.4 21005.8]             \n",
       " [86049.8 86049.8 86049.8 26654.6; 72859.7 72859.7 72859.7 26279.6; … ; 1.06344e5 1.06344e5 1.06344e5 55431.3; 84834.1 84834.1 84834.1 54279.5]       \n",
       " [29180.6 29180.6 29180.6 25784.3; 27438.4 27438.4 27438.4 25631.9; … ; 49218.0 49218.0 49218.0 49553.1; 45432.0 45432.0 45432.0 49134.4]             \n",
       " [49126.0 49126.0 49126.0 30121.6; 43247.6 43247.6 43247.6 29754.8; … ; 7357.14 7357.14 7357.14 16996.4; 6846.23 6846.23 6846.23 16873.8]             \n",
       " [1414.6 1414.6 1414.6 3820.59; 1886.13 1886.13 1886.13 3934.89; … ; 54930.1 54930.1 54930.1 82786.8; 52571.1 52571.1 52571.1 82412.2]                \n",
       " [45787.2 45787.2 45787.2 40458.1; 43053.6 43053.6 43053.6 40219.0; … ; 37532.8 37532.8 37532.8 44580.9; 28149.6 28149.6 28149.6 43285.9]             \n",
       " [16595.9 16595.9 16595.9 32447.9; 15981.3 15981.3 15981.3 32319.1; … ; 25241.3 25241.3 25241.3 21409.6; 28540.8 28540.8 28540.8 21682.6]             \n",
       " [9888.69 9888.69 9888.69 21193.4; 11362.5 11362.5 11362.5 21489.5; … ; 58278.4 58278.4 58278.4 30627.8; 56626.2 56626.2 56626.2 30544.4]             \n",
       " [42712.0 42712.0 42712.0 37740.8; 40162.0 40162.0 40162.0 37517.8; … ; 5577.27 5577.27 5577.27 16792.3; 6214.67 6214.67 6214.67 16982.6]             \n",
       " [26154.7 26154.7 26154.7 56054.6; 30052.8 30052.8 30052.8 56837.9; … ; 50275.2 50275.2 50275.2 39321.9; 59005.7 59005.7 59005.7 39903.7]             \n",
       " [15079.2 15079.2 15079.2 36964.0; 14635.7 14635.7 14635.7 36850.7; … ; 27777.1 27777.1 27777.1 32993.3; 20832.8 20832.8 20832.8 32034.8]             \n",
       " [54436.0 54436.0 54436.0 48100.2; 51186.1 51186.1 51186.1 47816.1; … ; 13190.4 13190.4 13190.4 30472.2; 12274.4 12274.4 12274.4 30252.5]             \n",
       " ⋮                                                                                                                                                    \n",
       " [31561.1 31561.1 31561.1 49162.5; 36770.3 36770.3 36770.3 49843.2; … ; 73477.6 73477.6 73477.6 38615.6; 71394.5 71394.5 71394.5 38510.5]             \n",
       " [10859.4 10859.4 10859.4 21231.9; 10457.2 10457.2 10457.2 21147.6; … ; 27061.5 27061.5 27061.5 40785.2; 25899.3 25899.3 25899.3 40600.7]             \n",
       " [10121.0 10121.0 10121.0 27938.4; 9439.76 9439.76 9439.76 27742.7; … ; 22342.8 22342.8 22342.8 28179.3; 23784.2 23784.2 23784.2 28361.9]             \n",
       " [49991.5 49991.5 49991.5 44173.0; 47006.9 47006.9 47006.9 43912.0; … ; 12995.1 12995.1 12995.1 30021.2; 12092.7 12092.7 12092.7 29804.7]             \n",
       " [10768.4 10768.4 10768.4 13027.9; 10107.7 10107.7 10107.7 12942.9; … ; 46522.3 46522.3 46522.3 24449.4; 45203.3 45203.3 45203.3 24382.9]             \n",
       " [10738.8 10738.8 10738.8 9488.95; 10097.7 10097.7 10097.7 9432.89; … ; 8628.95 8628.95 8628.95 22843.0; 8988.49 8988.49 8988.49 22942.2]             \n",
       " [19268.1 19268.1 19268.1 37672.3; 18554.4 18554.4 18554.4 37522.8; … ; 35454.7 35454.7 35454.7 42112.6; 26591.0 26591.0 26591.0 40889.3]             \n",
       " [11994.9 11994.9 11994.9 29403.5; 11642.2 11642.2 11642.2 29313.4; … ; 3725.25 3725.25 3725.25 9861.65; 3880.46 3880.46 3880.46 9904.51]             \n",
       " [11550.8 11550.8 11550.8 13390.2; 13475.9 13475.9 13475.9 13616.9; … ; 91991.4 91991.4 91991.4 71949.5; 1.07966e5 1.07966e5 1.07966e5 73014.1]       \n",
       " [7469.62 7469.62 7469.62 11635.3; 8702.47 8702.47 8702.47 11796.5; … ; 36678.0 36678.0 36678.0 44306.2; 35566.5 35566.5 35566.5 44175.2]             \n",
       " [8187.48 8187.48 8187.48 16007.9; 7884.24 7884.24 7884.24 15944.4; … ; 1.99434e5 1.99434e5 1.99434e5 1.04811e5; 1.9378e5 1.9378e5 1.9378e5 1.04526e5]\n",
       " [6145.46 6145.46 6145.46 19633.7; 5899.65 5899.65 5899.65 19548.8; … ; 97093.3 97093.3 97093.3 97754.4; 89624.6 89624.6 89624.6 96928.4]             "
      ]
     },
     "execution_count": 196,
     "metadata": {},
     "output_type": "execute_result"
    }
   ],
   "source": [
    "k = 1\n",
    "Qd_cg = combined_generator(Qdaily, num_realizations[k], num_years[k]) \n",
    "\n",
    "#back-transform data\n",
    "for i = 1:size(Qd_cg, 1)\n",
    "    Qd_cg[i][:, 4] = log.(Qd_cg[i][:, 4])\n",
    "end"
   ]
  },
  {
   "cell_type": "code",
   "execution_count": 197,
   "metadata": {},
   "outputs": [],
   "source": []
  },
  {
   "cell_type": "code",
   "execution_count": null,
   "metadata": {},
   "outputs": [],
   "source": [
    "k = 1\n",
    "Qd2 = zeros(Nsites, 365 * num_years[k])\n",
    "for i = 1: Nsites\n",
    "    \n",
    "    q_ = Array{Float64}(undef, 365, num_realizations[k])\n",
    "    \n",
    "    saveQ = Array{Array}(undef, num_years[k], num_years[k] * 365, num_realizations[k])\n",
    "    \n",
    "    for j = 1: num_realizations[k]\n",
    "        \n",
    "        for n = 1:Int(365 * num_years[k])\n",
    "            qi = Array{Float64}(undef, 365 * num_years[k], 1)\n",
    "            qi = Qd_cg[j][:, i]\n",
    "#             println(size(qi))\n",
    "#             println(size(q_[:, j]))\n",
    "            q_ = hcat(q_, reshape(qi, 365, num_years[k]))\n",
    "        end\n",
    "           \n",
    "    end\n",
    "    println(size(q_))\n",
    "    for m = 1:Int(size(Qd2, 1))\n",
    "        println(size(Qd2[i, m]))\n",
    "        Qd2[i, m] = reshape(q_[m], :, 1)\n",
    "    end\n",
    "\n",
    "    saveQ = reshape(Qd2[:,i], num_years[k] * 365, num_realizations[k])'\n",
    "    \n",
    "end\n",
    "println(size(q_))"
   ]
  },
  {
   "cell_type": "code",
   "execution_count": 8,
   "metadata": {
    "scrolled": false
   },
   "outputs": [
    {
     "data": {
      "text/plain": [
       "1"
      ]
     },
     "execution_count": 8,
     "metadata": {},
     "output_type": "execute_result"
    }
   ],
   "source": [
    "datadir = pwd() * \"/data/\"\n",
    "\n",
    "Qdaily = CSV.read(datadir*\"Qdaily.txt\", delim=\" \")\n",
    "Qdaily = convert(Matrix, Qdaily)[:, 1:4]\n",
    "\n",
    "Qdaily[:,4] = log.(Qdaily[:,4])\n",
    "sites = [\"qMarietta\", \"qMuddyRun\", \"qLateral\", \"evapConowingo\"]\n",
    "\n",
    "Nyears = size(Qdaily, 1) / 365\n",
    "Nsites = size(Qdaily, 2)\n",
    "\n",
    "num_realizations = [100, 1000]\n",
    "num_years = [100, 1]\n",
    "\n",
    "if isdir(datadir*\"\\\\validation\\\\\")\n",
    "    x=1\n",
    "else\n",
    "    mkdir(datadir*\"\\\\validation\\\\\")\n",
    "end\n",
    "\n",
    "# for k = 1:length(num_realizations)\n",
    "#     Qd_cg = combined_generator(Qdaily, num_realizations[k], num_years[k]) \n",
    "\n",
    "#     #back-transform data\n",
    "\n",
    "#     Qd_cg[:][:, 4] = log.(Qd_cg[:][:, 4])\n",
    "    \n",
    "#     for i = 1: Nsites\n",
    "#         q_ = Array{Array}(undef, num_realizations[k])\n",
    "        \n",
    "#         for j = 1: num_realizations[k]\n",
    "#             qi = Array{Float64}(undef, 365 * num_years[k], 1)\n",
    "#             qi[1:size(Qd_cg, 2)] = Qd_cg[j, :, i]\n",
    "            \n",
    "            \n",
    "#         end\n",
    "#     end\n",
    "    \n",
    "    \n",
    "# end"
   ]
  },
  {
   "cell_type": "code",
   "execution_count": 190,
   "metadata": {},
   "outputs": [
    {
     "data": {
      "text/plain": [
       "(365, 4)"
      ]
     },
     "execution_count": 190,
     "metadata": {},
     "output_type": "execute_result"
    }
   ],
   "source": [
    "size(Qd_cg[1])"
   ]
  },
  {
   "cell_type": "code",
   "execution_count": 86,
   "metadata": {},
   "outputs": [
    {
     "name": "stdout",
     "output_type": "stream",
     "text": [
      "search: \u001b[0m\u001b[1mt\u001b[22m\u001b[0m\u001b[1my\u001b[22m\u001b[0m\u001b[1mp\u001b[22m\u001b[0m\u001b[1me\u001b[22m\u001b[0m\u001b[1mo\u001b[22m\u001b[0m\u001b[1mf\u001b[22m \u001b[0m\u001b[1mt\u001b[22m\u001b[0m\u001b[1my\u001b[22m\u001b[0m\u001b[1mp\u001b[22m\u001b[0m\u001b[1me\u001b[22mj\u001b[0m\u001b[1mo\u001b[22min \u001b[0m\u001b[1mT\u001b[22m\u001b[0m\u001b[1my\u001b[22m\u001b[0m\u001b[1mp\u001b[22m\u001b[0m\u001b[1me\u001b[22mErr\u001b[0m\u001b[1mo\u001b[22mr\n",
      "\n"
     ]
    },
    {
     "data": {
      "text/latex": [
       "\\begin{verbatim}\n",
       "typeof(x)\n",
       "\\end{verbatim}\n",
       "Get the concrete type of \\texttt{x}.\n",
       "\n",
       "\\section{Examples}\n",
       "\\begin{verbatim}\n",
       "julia> a = 1//2;\n",
       "\n",
       "julia> typeof(a)\n",
       "Rational{Int64}\n",
       "\n",
       "julia> M = [1 2; 3.5 4];\n",
       "\n",
       "julia> typeof(M)\n",
       "Array{Float64,2}\n",
       "\\end{verbatim}\n"
      ],
      "text/markdown": [
       "```\n",
       "typeof(x)\n",
       "```\n",
       "\n",
       "Get the concrete type of `x`.\n",
       "\n",
       "# Examples\n",
       "\n",
       "```jldoctest\n",
       "julia> a = 1//2;\n",
       "\n",
       "julia> typeof(a)\n",
       "Rational{Int64}\n",
       "\n",
       "julia> M = [1 2; 3.5 4];\n",
       "\n",
       "julia> typeof(M)\n",
       "Array{Float64,2}\n",
       "```\n"
      ],
      "text/plain": [
       "\u001b[36m  typeof(x)\u001b[39m\n",
       "\n",
       "  Get the concrete type of \u001b[36mx\u001b[39m.\n",
       "\n",
       "\u001b[1m  Examples\u001b[22m\n",
       "\u001b[1m  ≡≡≡≡≡≡≡≡≡≡\u001b[22m\n",
       "\n",
       "\u001b[36m  julia> a = 1//2;\u001b[39m\n",
       "\u001b[36m  \u001b[39m\n",
       "\u001b[36m  julia> typeof(a)\u001b[39m\n",
       "\u001b[36m  Rational{Int64}\u001b[39m\n",
       "\u001b[36m  \u001b[39m\n",
       "\u001b[36m  julia> M = [1 2; 3.5 4];\u001b[39m\n",
       "\u001b[36m  \u001b[39m\n",
       "\u001b[36m  julia> typeof(M)\u001b[39m\n",
       "\u001b[36m  Array{Float64,2}\u001b[39m"
      ]
     },
     "execution_count": 86,
     "metadata": {},
     "output_type": "execute_result"
    }
   ],
   "source": [
    "? typeof"
   ]
  },
  {
   "cell_type": "code",
   "execution_count": 142,
   "metadata": {},
   "outputs": [
    {
     "data": {
      "text/plain": [
       "4-element Array{Any,1}:\n",
       " [9.98525e10 1.24174e11 … 1.14618e11 6.40397e10; 6.912e10 6.77722e10 … 4.02192e10 5.54947e10; … ; 7.5505e10 5.17882e10 … 3.00603e10 7.31376e10; 4.64573e10 6.64416e10 … 1.71063e10 5.59855e10]\n",
       " [9.98525e10 1.24174e11 … 1.14618e11 6.40397e10; 6.912e10 6.77722e10 … 4.02192e10 5.54947e10; … ; 7.5505e10 5.17882e10 … 3.00603e10 7.31376e10; 4.64573e10 6.64416e10 … 1.71063e10 5.59855e10]\n",
       " [9.98525e10 1.24174e11 … 1.14618e11 6.40397e10; 6.912e10 6.77722e10 … 4.02192e10 5.54947e10; … ; 7.5505e10 5.17882e10 … 3.00603e10 7.31376e10; 4.64573e10 6.64416e10 … 1.71063e10 5.59855e10]\n",
       " [2.79682e7 2.61588e7 … 2.72715e7 2.62701e7; 2.70983e7 2.45556e7 … 2.49376e7 2.64004e7; … ; 2.733e7 2.38614e7 … 2.41581e7 2.64062e7; 2.60285e7 2.43439e7 … 2.27681e7 2.62123e7]               "
      ]
     },
     "execution_count": 142,
     "metadata": {},
     "output_type": "execute_result"
    }
   ],
   "source": [
    "x = Any[[9.98525e10 1.24174e11 5.30496e10 2.54569e11 1.32244e11 3.86035e10 2.98823e10 1.41428e10 8.68406e9 4.86838e10 1.14618e11 6.40397e10; 6.912e10 6.77722e10 1.63728e11 2.50595e11 1.60376e11 7.7544e10 3.5786e10 2.74173e10 1.67184e11 4.07817e10 4.02192e10 5.54947e10; 1.26369e11 3.59078e10 7.88314e10 1.97346e11 7.14528e10 2.82874e10 2.46318e10 1.775e10 5.34315e10 6.47136e10 4.84695e10 1.51658e11; 1.1588e11 6.35904e10 1.90961e11 1.92473e11 1.47433e11 3.61247e10 8.98992e10 4.50913e10 1.81354e10 1.26567e10 7.84909e10 1.06134e11; 7.58592e10 3.78864e10 5.26081e11 2.66276e11 6.78586e10 3.41539e10 2.09693e10 1.35847e10 1.6861e10 1.93951e10 8.01706e10 7.82093e10; 1.83876e11 1.85492e11 1.18238e11 1.65015e11 2.34317e11 5.72918e10 4.84307e10 3.53393e10 5.80262e10 2.25132e10 1.83885e11 1.02963e11; 8.89402e10 1.51278e11 1.63201e11 1.46733e11 7.16774e10 5.92531e10 3.58016e10 3.67079e10 1.78416e10 5.15445e10 2.63416e10 1.2763e11; 5.57626e10 1.32468e11 2.56522e11 2.10868e11 8.12678e10 3.22186e10 2.30861e10 1.52617e10 9.05386e9 1.39476e10 3.25063e10 2.34472e10; 3.14582e10 2.39587e10 1.11741e11 4.81568e11 1.61628e11 1.07888e11 4.2895e10 2.26472e10 3.57696e10 2.63736e10 5.20992e10 8.35747e10; 1.29341e11 4.58179e10 7.83043e10 2.40944e11 5.40605e10 4.46921e10 2.84844e10 1.95618e10 1.57291e10 8.22787e9 1.70951e10 2.19542e10; 8.51377e10 6.13958e10 2.05744e11 2.04708e11 8.60976e10 1.52617e11 4.84471e10 5.65402e10 2.73646e10 7.05361e10 9.97142e10 1.21686e11; 2.42343e11 9.33379e10 2.51303e11 1.4739e11 2.56625e11 1.56099e11 3.36398e10 2.05848e10 1.33324e10 1.33091e10 1.37565e11 4.51094e10; 4.43396e10 3.88541e10 1.45282e11 2.09503e11 2.14929e11 7.82438e10 5.42255e10 1.56894e10 1.28339e10 1.87194e10 2.73715e10 6.41434e10; 7.15824e10 4.27334e10 3.76739e11 1.84861e11 2.2229e11 1.10436e11 6.04022e10 5.89378e10 5.88004e10 1.14765e11 1.0743e11 1.99541e11; 1.53913e11 4.88592e10 2.28787e11 8.54669e10 7.7328e10 3.2273e11 6.63552e10 5.13734e10 2.01174e10 4.35387e10 5.56243e10 3.16483e10; 8.91648e10 1.19362e11 8.94931e10 2.02409e11 2.0463e11 1.83108e11 8.40758e10 6.05664e10 4.21546e10 1.62674e10 4.64651e10 5.68685e10; 4.79693e10 3.93293e10 2.30187e11 3.21857e11 1.87237e11 9.74592e10 5.26349e10 4.04957e10 1.7032e10 1.5533e10 4.24734e10 1.01442e11; 2.14566e11 1.5412e11 1.41212e11 1.29833e11 9.95414e10 5.62939e10 2.83375e10 1.89181e10 1.77431e10 2.27837e10 2.63174e10 5.83891e10; 1.82226e11 1.31371e11 1.13305e11 3.13805e11 1.2954e11 1.08156e11 3.91046e10 3.38489e10 5.41797e10 5.64054e10 7.2913e10 3.46576e11; 1.42474e11 1.95515e11 2.3531e11 2.45601e11 9.19901e10 7.28179e10 5.23757e10 2.95514e10 1.67573e10 1.27345e10 4.49807e10 9.1921e10; 1.98366e11 1.98945e11 1.82546e11 2.64237e11 1.62043e11 1.23898e11 3.2273e10 2.91004e10 3.47285e10 1.49999e10 1.79496e10 1.77362e11; 1.03974e11 1.53438e11 1.44245e11 2.32209e11 1.47234e11 1.75884e11 2.73888e10 1.89233e10 1.19215e10 1.00414e10 1.3182e10 6.59845e10; 3.01648e10 6.72451e10 2.0425e11 1.31855e11 1.90918e11 6.8904e10 2.32796e10 1.27786e10 1.33842e10 2.84316e10 3.52927e10 9.26813e10; 1.32875e11 4.37443e10 2.52383e11 1.38473e11 9.21542e10 4.01596e10 1.87678e10 4.85015e10 3.18462e10 1.34421e11 1.32278e11 7.64208e10; 4.02192e10 8.53978e10 2.7165e11 2.60928e11 1.66622e11 6.90509e10 6.11021e10 7.4209e10 3.83357e10 4.13217e10 9.85306e10 1.2128e11; 1.08899e11 1.32486e11 1.40504e11 2.56435e11 1.04743e11 4.97146e10 2.61593e10 1.31924e10 9.83318e9 1.30628e10 1.92033e10 6.0277e10; 1.30205e11 6.69082e10 1.69318e11 3.55527e11 2.47113e11 7.0848e10 5.15894e10 4.81766e10 2.54292e10 3.79166e10 5.52614e10 6.1033e10; 5.58576e10 1.56367e11 1.20718e11 2.16985e11 1.21867e11 3.85491e10 2.25919e10 1.52055e10 1.91298e10 2.62181e10 1.02614e11 1.9726e11; 1.47502e11 1.07058e11 8.03002e10 3.34809e11 1.61188e11 1.71297e11 5.97542e10 3.09131e10 4.50593e10 3.51631e10 2.916e10 2.35518e10; 2.67062e10 2.61014e10 3.42343e11 2.49247e11 2.07801e11 7.09862e10 4.37962e10 3.49125e10 2.82597e10 1.25289e10 1.45619e10 3.90545e10; 7.22822e10 5.18832e10 1.80377e11 3.3575e11 9.10397e10 2.82208e10 1.30931e10 1.08112e10 1.16199e10 4.70431e10 6.41701e10 6.3936e10; 5.67648e10 4.16448e10 1.78235e11 2.25236e11 8.32118e10 6.75907e10 2.24294e10 1.51235e10 1.12026e10 7.81056e9 1.39864e10 4.76859e10; 4.99997e10 1.39251e11 3.30117e11 1.59918e11 1.89942e11 3.25339e10 1.82442e10 1.3049e10 6.8999e9 7.46323e9 6.4705e9 1.69854e10; 4.82656e10 1.01269e11 1.0273e11 1.41852e11 1.066e11 3.22125e10 1.26092e10 1.10765e10 1.09979e10 2.48072e10 2.33548e10 4.45046e10; 5.27904e10 1.11275e11 1.99515e11 9.96019e10 1.58147e11 6.54394e10 1.66398e10 9.81418e9 1.04207e10 1.73811e10 2.03299e10 8.46089e10; 3.77248e10 8.68234e10 1.80567e11 1.92266e11 1.86849e11 6.31498e10 4.03834e10 5.48389e10 3.49609e10 4.23343e10 1.21288e11 1.39139e11; 5.46998e10 1.06946e11 7.88659e10 1.61585e11 8.79379e10 1.78762e11 6.49711e10 1.91989e10 3.37755e10 1.70372e10 8.52561e10 1.15327e11; 6.03504e10 7.56864e10 3.88377e10 1.63598e11 1.17815e11 6.11712e10 3.45574e10 6.13613e10 2.13468e10 1.38318e10 5.22772e10 9.85306e10; 5.00774e10 1.48988e11 1.04397e11 3.64116e11 1.51926e11 6.76339e10 5.5823e10 3.28942e10 2.35742e10 3.08085e10 1.46111e11 1.16891e11; 9.56102e10 8.11296e10 3.54128e11 1.79556e11 1.26343e11 5.24707e10 2.13866e10 3.52711e10 2.18177e10 2.81189e10 4.24164e10 1.53446e11; 1.13409e11 8.73504e10 2.5183e11 2.51856e11 2.3106e11 1.33574e11 5.35965e11 4.58438e10 2.14911e10 2.06755e10 1.08349e11 2.4624e11; 1.77051e11 1.70735e11 1.55831e11 2.13935e11 1.40884e11 1.29021e11 6.48864e10 3.81784e10 3.95038e10 3.76514e10 6.48855e10 1.56349e11; 2.1981e11 1.55753e11 1.6905e11 2.50906e11 1.14445e11 5.42938e10 6.38496e10 3.07714e10 4.54395e10 3.70051e10 4.18539e10 1.36996e11; 1.36218e11 1.1569e11 2.74147e11 1.59944e11 1.62e11 1.14437e11 5.67994e10 3.21866e10 3.3518e10 3.14565e11 1.18256e11 9.67507e10; 8.86723e10 1.95454e11 2.48478e11 1.27164e11 8.20714e10 8.12333e10 9.7727e10 5.76202e10 3.12224e10 1.62683e11 1.46405e11 6.81523e10; 3.64954e10 3.40675e10 3.02892e11 2.56392e11 1.06574e11 3.30307e10 4.47042e10 4.24492e10 2.96888e10 2.27526e11 1.98746e11 2.14929e11; 1.93311e11 1.63063e11 1.38344e11 3.69464e11 2.0031e11 9.94637e10 4.25693e10 4.31093e10 2.3982e10 3.05173e10 3.14824e10 6.96125e10; 1.68843e11 1.48349e11 3.73559e11 1.96551e11 8.31514e10 1.10808e11 3.00145e10 3.89569e10 6.39792e10 1.21193e11 8.78688e10 1.1918e11; 9.77011e10 3.05796e10 1.00988e11 3.28553e11 1.32028e11 5.19091e10 3.04862e10 2.17331e10 1.3125e10 1.07006e10 1.93795e10 5.36846e10; 1.8392e10 9.31133e10 2.40028e11 8.10518e10 1.27846e11 7.15133e10 5.40613e10 2.81543e10 2.00215e10 3.1231e10 9.73996e10 5.69117e10; 8.23392e10 1.00094e11 1.72014e11 2.49886e11 7.15997e10 1.84499e11 6.21302e10 2.69646e10 1.50388e10 1.59952e10 2.03697e10 4.90199e10; 5.22893e10 9.43834e10 1.10091e11 2.71045e11 2.70873e11 1.0266e11 6.59508e10 2.04552e10 1.23085e10 1.45869e10 3.21538e10 2.40348e11; 5.8847e10 2.01321e11 1.61369e11 3.26004e11 1.78779e11 1.64246e11 1.1048e11 6.8809e10 3.20414e10 1.70683e10 2.81301e10 1.12946e11; 1.06903e11 5.12525e10 1.49023e11 1.52833e11 6.61651e10 4.5913e10 2.61075e10 2.15006e10 1.84162e10 3.5856e10 8.97134e10 1.72385e11; 5.69549e10 1.08691e11 3.024e11 1.56151e11 7.96435e10 9.24134e10 4.13597e10 5.28336e10 2.19326e10 3.84903e10 6.65453e10 1.97683e11; 1.02799e11 5.22461e10 1.30931e11 2.31293e11 8.66592e10 4.14979e10 4.90666e10 1.8379e10 5.81498e10 5.60218e10 5.15117e10 1.02056e11; 5.92186e10 1.22809e11 1.134e11 1.12173e11 1.28148e11 8.00885e10 1.57559e10 2.33245e10 3.10046e10 1.70234e10 4.98969e10 5.40804e10; 5.7983e10 4.3632e10 8.07149e10 1.97744e11 2.57221e11 1.37851e11 1.62985e11 4.87521e10 1.8468e10 4.79658e10 8.49917e10 5.34099e10; 5.24794e10 2.18238e11 1.12173e11 1.44245e11 1.29669e11 1.02384e11 6.59232e10 4.86086e10 4.92566e10 1.15655e11 1.89985e11 1.55477e11; 2.23171e11 1.09935e11 1.80922e11 1.24278e11 1.25375e11 2.64021e10 1.52539e10 1.37264e10 1.18593e10 1.70476e10 1.46923e10 7.23427e10; 6.13786e10 4.55795e10 1.22887e11 1.8239e11 1.29531e11 6.70032e10 4.40251e10 6.88954e10 4.23792e10 5.71277e10 9.11779e10 1.41575e11; 1.72869e11 6.06787e10 8.32637e10 6.02182e11 2.41082e11 3.93206e10 2.39363e10 1.63296e10 1.8792e10 2.78122e10 6.26141e10 2.16648e11; 4.66387e10 7.72934e10 2.47044e11 5.49288e11 1.21686e11 6.42125e10 6.18451e10 1.0179e11 7.33968e10 4.9534e10 4.29218e10 1.54803e11; 1.33056e11 9.12557e10 1.20943e11 9.05213e10 6.07306e10 5.46307e10 4.52987e10 1.82468e10 8.67715e9 3.2178e10 1.13452e11 9.98179e10; 1.78865e11 2.22057e11 2.27284e11 2.06919e11 2.36779e11 7.43213e10 7.34659e10 5.08378e10 9.11537e10 1.14817e11 1.9961e11 2.96093e11; 1.06255e11 8.21318e10 2.15412e11 1.30956e11 6.90509e10 8.19504e10 2.51752e10 2.00595e10 2.17979e10 1.83678e10 8.23893e10 8.48016e10; 2.27638e11 1.35752e11 2.96646e11 2.19145e11 2.49402e11 6.63552e10 7.18243e10 2.13693e10 1.37281e10 1.84248e10 1.43562e10 1.51572e10; 3.39155e10 1.80524e11 1.26438e11 1.68022e11 7.88486e10 2.37056e10 1.48867e10 1.23656e10 3.92299e10 6.02294e10 2.82269e10 8.87008e10; 7.5505e10 5.17882e10 2.25253e11 2.1975e11 1.53369e11 1.36408e11 6.63984e10 3.91833e10 2.42732e10 2.9033e10 3.00603e10 7.31376e10; 4.64573e10 6.64416e10 1.05313e11 2.4948e11 7.1928e10 4.38739e10 5.42169e10 1.54284e10 1.35285e10 2.88818e10 1.71063e10 5.59855e10], [9.98525e10 1.24174e11 5.30496e10 2.54569e11 1.32244e11 3.86035e10 2.98823e10 1.41428e10 8.68406e9 4.86838e10 1.14618e11 6.40397e10; 6.912e10 6.77722e10 1.63728e11 2.50595e11 1.60376e11 7.7544e10 3.5786e10 2.74173e10 1.67184e11 4.07817e10 4.02192e10 5.54947e10; 1.26369e11 3.59078e10 7.88314e10 1.97346e11 7.14528e10 2.82874e10 2.46318e10 1.775e10 5.34315e10 6.47136e10 4.84695e10 1.51658e11; 1.1588e11 6.35904e10 1.90961e11 1.92473e11 1.47433e11 3.61247e10 8.98992e10 4.50913e10 1.81354e10 1.26567e10 7.84909e10 1.06134e11; 7.58592e10 3.78864e10 5.26081e11 2.66276e11 6.78586e10 3.41539e10 2.09693e10 1.35847e10 1.6861e10 1.93951e10 8.01706e10 7.82093e10; 1.83876e11 1.85492e11 1.18238e11 1.65015e11 2.34317e11 5.72918e10 4.84307e10 3.53393e10 5.80262e10 2.25132e10 1.83885e11 1.02963e11; 8.89402e10 1.51278e11 1.63201e11 1.46733e11 7.16774e10 5.92531e10 3.58016e10 3.67079e10 1.78416e10 5.15445e10 2.63416e10 1.2763e11; 5.57626e10 1.32468e11 2.56522e11 2.10868e11 8.12678e10 3.22186e10 2.30861e10 1.52617e10 9.05386e9 1.39476e10 3.25063e10 2.34472e10; 3.14582e10 2.39587e10 1.11741e11 4.81568e11 1.61628e11 1.07888e11 4.2895e10 2.26472e10 3.57696e10 2.63736e10 5.20992e10 8.35747e10; 1.29341e11 4.58179e10 7.83043e10 2.40944e11 5.40605e10 4.46921e10 2.84844e10 1.95618e10 1.57291e10 8.22787e9 1.70951e10 2.19542e10; 8.51377e10 6.13958e10 2.05744e11 2.04708e11 8.60976e10 1.52617e11 4.84471e10 5.65402e10 2.73646e10 7.05361e10 9.97142e10 1.21686e11; 2.42343e11 9.33379e10 2.51303e11 1.4739e11 2.56625e11 1.56099e11 3.36398e10 2.05848e10 1.33324e10 1.33091e10 1.37565e11 4.51094e10; 4.43396e10 3.88541e10 1.45282e11 2.09503e11 2.14929e11 7.82438e10 5.42255e10 1.56894e10 1.28339e10 1.87194e10 2.73715e10 6.41434e10; 7.15824e10 4.27334e10 3.76739e11 1.84861e11 2.2229e11 1.10436e11 6.04022e10 5.89378e10 5.88004e10 1.14765e11 1.0743e11 1.99541e11; 1.53913e11 4.88592e10 2.28787e11 8.54669e10 7.7328e10 3.2273e11 6.63552e10 5.13734e10 2.01174e10 4.35387e10 5.56243e10 3.16483e10; 8.91648e10 1.19362e11 8.94931e10 2.02409e11 2.0463e11 1.83108e11 8.40758e10 6.05664e10 4.21546e10 1.62674e10 4.64651e10 5.68685e10; 4.79693e10 3.93293e10 2.30187e11 3.21857e11 1.87237e11 9.74592e10 5.26349e10 4.04957e10 1.7032e10 1.5533e10 4.24734e10 1.01442e11; 2.14566e11 1.5412e11 1.41212e11 1.29833e11 9.95414e10 5.62939e10 2.83375e10 1.89181e10 1.77431e10 2.27837e10 2.63174e10 5.83891e10; 1.82226e11 1.31371e11 1.13305e11 3.13805e11 1.2954e11 1.08156e11 3.91046e10 3.38489e10 5.41797e10 5.64054e10 7.2913e10 3.46576e11; 1.42474e11 1.95515e11 2.3531e11 2.45601e11 9.19901e10 7.28179e10 5.23757e10 2.95514e10 1.67573e10 1.27345e10 4.49807e10 9.1921e10; 1.98366e11 1.98945e11 1.82546e11 2.64237e11 1.62043e11 1.23898e11 3.2273e10 2.91004e10 3.47285e10 1.49999e10 1.79496e10 1.77362e11; 1.03974e11 1.53438e11 1.44245e11 2.32209e11 1.47234e11 1.75884e11 2.73888e10 1.89233e10 1.19215e10 1.00414e10 1.3182e10 6.59845e10; 3.01648e10 6.72451e10 2.0425e11 1.31855e11 1.90918e11 6.8904e10 2.32796e10 1.27786e10 1.33842e10 2.84316e10 3.52927e10 9.26813e10; 1.32875e11 4.37443e10 2.52383e11 1.38473e11 9.21542e10 4.01596e10 1.87678e10 4.85015e10 3.18462e10 1.34421e11 1.32278e11 7.64208e10; 4.02192e10 8.53978e10 2.7165e11 2.60928e11 1.66622e11 6.90509e10 6.11021e10 7.4209e10 3.83357e10 4.13217e10 9.85306e10 1.2128e11; 1.08899e11 1.32486e11 1.40504e11 2.56435e11 1.04743e11 4.97146e10 2.61593e10 1.31924e10 9.83318e9 1.30628e10 1.92033e10 6.0277e10; 1.30205e11 6.69082e10 1.69318e11 3.55527e11 2.47113e11 7.0848e10 5.15894e10 4.81766e10 2.54292e10 3.79166e10 5.52614e10 6.1033e10; 5.58576e10 1.56367e11 1.20718e11 2.16985e11 1.21867e11 3.85491e10 2.25919e10 1.52055e10 1.91298e10 2.62181e10 1.02614e11 1.9726e11; 1.47502e11 1.07058e11 8.03002e10 3.34809e11 1.61188e11 1.71297e11 5.97542e10 3.09131e10 4.50593e10 3.51631e10 2.916e10 2.35518e10; 2.67062e10 2.61014e10 3.42343e11 2.49247e11 2.07801e11 7.09862e10 4.37962e10 3.49125e10 2.82597e10 1.25289e10 1.45619e10 3.90545e10; 7.22822e10 5.18832e10 1.80377e11 3.3575e11 9.10397e10 2.82208e10 1.30931e10 1.08112e10 1.16199e10 4.70431e10 6.41701e10 6.3936e10; 5.67648e10 4.16448e10 1.78235e11 2.25236e11 8.32118e10 6.75907e10 2.24294e10 1.51235e10 1.12026e10 7.81056e9 1.39864e10 4.76859e10; 4.99997e10 1.39251e11 3.30117e11 1.59918e11 1.89942e11 3.25339e10 1.82442e10 1.3049e10 6.8999e9 7.46323e9 6.4705e9 1.69854e10; 4.82656e10 1.01269e11 1.0273e11 1.41852e11 1.066e11 3.22125e10 1.26092e10 1.10765e10 1.09979e10 2.48072e10 2.33548e10 4.45046e10; 5.27904e10 1.11275e11 1.99515e11 9.96019e10 1.58147e11 6.54394e10 1.66398e10 9.81418e9 1.04207e10 1.73811e10 2.03299e10 8.46089e10; 3.77248e10 8.68234e10 1.80567e11 1.92266e11 1.86849e11 6.31498e10 4.03834e10 5.48389e10 3.49609e10 4.23343e10 1.21288e11 1.39139e11; 5.46998e10 1.06946e11 7.88659e10 1.61585e11 8.79379e10 1.78762e11 6.49711e10 1.91989e10 3.37755e10 1.70372e10 8.52561e10 1.15327e11; 6.03504e10 7.56864e10 3.88377e10 1.63598e11 1.17815e11 6.11712e10 3.45574e10 6.13613e10 2.13468e10 1.38318e10 5.22772e10 9.85306e10; 5.00774e10 1.48988e11 1.04397e11 3.64116e11 1.51926e11 6.76339e10 5.5823e10 3.28942e10 2.35742e10 3.08085e10 1.46111e11 1.16891e11; 9.56102e10 8.11296e10 3.54128e11 1.79556e11 1.26343e11 5.24707e10 2.13866e10 3.52711e10 2.18177e10 2.81189e10 4.24164e10 1.53446e11; 1.13409e11 8.73504e10 2.5183e11 2.51856e11 2.3106e11 1.33574e11 5.35965e11 4.58438e10 2.14911e10 2.06755e10 1.08349e11 2.4624e11; 1.77051e11 1.70735e11 1.55831e11 2.13935e11 1.40884e11 1.29021e11 6.48864e10 3.81784e10 3.95038e10 3.76514e10 6.48855e10 1.56349e11; 2.1981e11 1.55753e11 1.6905e11 2.50906e11 1.14445e11 5.42938e10 6.38496e10 3.07714e10 4.54395e10 3.70051e10 4.18539e10 1.36996e11; 1.36218e11 1.1569e11 2.74147e11 1.59944e11 1.62e11 1.14437e11 5.67994e10 3.21866e10 3.3518e10 3.14565e11 1.18256e11 9.67507e10; 8.86723e10 1.95454e11 2.48478e11 1.27164e11 8.20714e10 8.12333e10 9.7727e10 5.76202e10 3.12224e10 1.62683e11 1.46405e11 6.81523e10; 3.64954e10 3.40675e10 3.02892e11 2.56392e11 1.06574e11 3.30307e10 4.47042e10 4.24492e10 2.96888e10 2.27526e11 1.98746e11 2.14929e11; 1.93311e11 1.63063e11 1.38344e11 3.69464e11 2.0031e11 9.94637e10 4.25693e10 4.31093e10 2.3982e10 3.05173e10 3.14824e10 6.96125e10; 1.68843e11 1.48349e11 3.73559e11 1.96551e11 8.31514e10 1.10808e11 3.00145e10 3.89569e10 6.39792e10 1.21193e11 8.78688e10 1.1918e11; 9.77011e10 3.05796e10 1.00988e11 3.28553e11 1.32028e11 5.19091e10 3.04862e10 2.17331e10 1.3125e10 1.07006e10 1.93795e10 5.36846e10; 1.8392e10 9.31133e10 2.40028e11 8.10518e10 1.27846e11 7.15133e10 5.40613e10 2.81543e10 2.00215e10 3.1231e10 9.73996e10 5.69117e10; 8.23392e10 1.00094e11 1.72014e11 2.49886e11 7.15997e10 1.84499e11 6.21302e10 2.69646e10 1.50388e10 1.59952e10 2.03697e10 4.90199e10; 5.22893e10 9.43834e10 1.10091e11 2.71045e11 2.70873e11 1.0266e11 6.59508e10 2.04552e10 1.23085e10 1.45869e10 3.21538e10 2.40348e11; 5.8847e10 2.01321e11 1.61369e11 3.26004e11 1.78779e11 1.64246e11 1.1048e11 6.8809e10 3.20414e10 1.70683e10 2.81301e10 1.12946e11; 1.06903e11 5.12525e10 1.49023e11 1.52833e11 6.61651e10 4.5913e10 2.61075e10 2.15006e10 1.84162e10 3.5856e10 8.97134e10 1.72385e11; 5.69549e10 1.08691e11 3.024e11 1.56151e11 7.96435e10 9.24134e10 4.13597e10 5.28336e10 2.19326e10 3.84903e10 6.65453e10 1.97683e11; 1.02799e11 5.22461e10 1.30931e11 2.31293e11 8.66592e10 4.14979e10 4.90666e10 1.8379e10 5.81498e10 5.60218e10 5.15117e10 1.02056e11; 5.92186e10 1.22809e11 1.134e11 1.12173e11 1.28148e11 8.00885e10 1.57559e10 2.33245e10 3.10046e10 1.70234e10 4.98969e10 5.40804e10; 5.7983e10 4.3632e10 8.07149e10 1.97744e11 2.57221e11 1.37851e11 1.62985e11 4.87521e10 1.8468e10 4.79658e10 8.49917e10 5.34099e10; 5.24794e10 2.18238e11 1.12173e11 1.44245e11 1.29669e11 1.02384e11 6.59232e10 4.86086e10 4.92566e10 1.15655e11 1.89985e11 1.55477e11; 2.23171e11 1.09935e11 1.80922e11 1.24278e11 1.25375e11 2.64021e10 1.52539e10 1.37264e10 1.18593e10 1.70476e10 1.46923e10 7.23427e10; 6.13786e10 4.55795e10 1.22887e11 1.8239e11 1.29531e11 6.70032e10 4.40251e10 6.88954e10 4.23792e10 5.71277e10 9.11779e10 1.41575e11; 1.72869e11 6.06787e10 8.32637e10 6.02182e11 2.41082e11 3.93206e10 2.39363e10 1.63296e10 1.8792e10 2.78122e10 6.26141e10 2.16648e11; 4.66387e10 7.72934e10 2.47044e11 5.49288e11 1.21686e11 6.42125e10 6.18451e10 1.0179e11 7.33968e10 4.9534e10 4.29218e10 1.54803e11; 1.33056e11 9.12557e10 1.20943e11 9.05213e10 6.07306e10 5.46307e10 4.52987e10 1.82468e10 8.67715e9 3.2178e10 1.13452e11 9.98179e10; 1.78865e11 2.22057e11 2.27284e11 2.06919e11 2.36779e11 7.43213e10 7.34659e10 5.08378e10 9.11537e10 1.14817e11 1.9961e11 2.96093e11; 1.06255e11 8.21318e10 2.15412e11 1.30956e11 6.90509e10 8.19504e10 2.51752e10 2.00595e10 2.17979e10 1.83678e10 8.23893e10 8.48016e10; 2.27638e11 1.35752e11 2.96646e11 2.19145e11 2.49402e11 6.63552e10 7.18243e10 2.13693e10 1.37281e10 1.84248e10 1.43562e10 1.51572e10; 3.39155e10 1.80524e11 1.26438e11 1.68022e11 7.88486e10 2.37056e10 1.48867e10 1.23656e10 3.92299e10 6.02294e10 2.82269e10 8.87008e10; 7.5505e10 5.17882e10 2.25253e11 2.1975e11 1.53369e11 1.36408e11 6.63984e10 3.91833e10 2.42732e10 2.9033e10 3.00603e10 7.31376e10; 4.64573e10 6.64416e10 1.05313e11 2.4948e11 7.1928e10 4.38739e10 5.42169e10 1.54284e10 1.35285e10 2.88818e10 1.71063e10 5.59855e10], [9.98525e10 1.24174e11 5.30496e10 2.54569e11 1.32244e11 3.86035e10 2.98823e10 1.41428e10 8.68406e9 4.86838e10 1.14618e11 6.40397e10; 6.912e10 6.77722e10 1.63728e11 2.50595e11 1.60376e11 7.7544e10 3.5786e10 2.74173e10 1.67184e11 4.07817e10 4.02192e10 5.54947e10; 1.26369e11 3.59078e10 7.88314e10 1.97346e11 7.14528e10 2.82874e10 2.46318e10 1.775e10 5.34315e10 6.47136e10 4.84695e10 1.51658e11; 1.1588e11 6.35904e10 1.90961e11 1.92473e11 1.47433e11 3.61247e10 8.98992e10 4.50913e10 1.81354e10 1.26567e10 7.84909e10 1.06134e11; 7.58592e10 3.78864e10 5.26081e11 2.66276e11 6.78586e10 3.41539e10 2.09693e10 1.35847e10 1.6861e10 1.93951e10 8.01706e10 7.82093e10; 1.83876e11 1.85492e11 1.18238e11 1.65015e11 2.34317e11 5.72918e10 4.84307e10 3.53393e10 5.80262e10 2.25132e10 1.83885e11 1.02963e11; 8.89402e10 1.51278e11 1.63201e11 1.46733e11 7.16774e10 5.92531e10 3.58016e10 3.67079e10 1.78416e10 5.15445e10 2.63416e10 1.2763e11; 5.57626e10 1.32468e11 2.56522e11 2.10868e11 8.12678e10 3.22186e10 2.30861e10 1.52617e10 9.05386e9 1.39476e10 3.25063e10 2.34472e10; 3.14582e10 2.39587e10 1.11741e11 4.81568e11 1.61628e11 1.07888e11 4.2895e10 2.26472e10 3.57696e10 2.63736e10 5.20992e10 8.35747e10; 1.29341e11 4.58179e10 7.83043e10 2.40944e11 5.40605e10 4.46921e10 2.84844e10 1.95618e10 1.57291e10 8.22787e9 1.70951e10 2.19542e10; 8.51377e10 6.13958e10 2.05744e11 2.04708e11 8.60976e10 1.52617e11 4.84471e10 5.65402e10 2.73646e10 7.05361e10 9.97142e10 1.21686e11; 2.42343e11 9.33379e10 2.51303e11 1.4739e11 2.56625e11 1.56099e11 3.36398e10 2.05848e10 1.33324e10 1.33091e10 1.37565e11 4.51094e10; 4.43396e10 3.88541e10 1.45282e11 2.09503e11 2.14929e11 7.82438e10 5.42255e10 1.56894e10 1.28339e10 1.87194e10 2.73715e10 6.41434e10; 7.15824e10 4.27334e10 3.76739e11 1.84861e11 2.2229e11 1.10436e11 6.04022e10 5.89378e10 5.88004e10 1.14765e11 1.0743e11 1.99541e11; 1.53913e11 4.88592e10 2.28787e11 8.54669e10 7.7328e10 3.2273e11 6.63552e10 5.13734e10 2.01174e10 4.35387e10 5.56243e10 3.16483e10; 8.91648e10 1.19362e11 8.94931e10 2.02409e11 2.0463e11 1.83108e11 8.40758e10 6.05664e10 4.21546e10 1.62674e10 4.64651e10 5.68685e10; 4.79693e10 3.93293e10 2.30187e11 3.21857e11 1.87237e11 9.74592e10 5.26349e10 4.04957e10 1.7032e10 1.5533e10 4.24734e10 1.01442e11; 2.14566e11 1.5412e11 1.41212e11 1.29833e11 9.95414e10 5.62939e10 2.83375e10 1.89181e10 1.77431e10 2.27837e10 2.63174e10 5.83891e10; 1.82226e11 1.31371e11 1.13305e11 3.13805e11 1.2954e11 1.08156e11 3.91046e10 3.38489e10 5.41797e10 5.64054e10 7.2913e10 3.46576e11; 1.42474e11 1.95515e11 2.3531e11 2.45601e11 9.19901e10 7.28179e10 5.23757e10 2.95514e10 1.67573e10 1.27345e10 4.49807e10 9.1921e10; 1.98366e11 1.98945e11 1.82546e11 2.64237e11 1.62043e11 1.23898e11 3.2273e10 2.91004e10 3.47285e10 1.49999e10 1.79496e10 1.77362e11; 1.03974e11 1.53438e11 1.44245e11 2.32209e11 1.47234e11 1.75884e11 2.73888e10 1.89233e10 1.19215e10 1.00414e10 1.3182e10 6.59845e10; 3.01648e10 6.72451e10 2.0425e11 1.31855e11 1.90918e11 6.8904e10 2.32796e10 1.27786e10 1.33842e10 2.84316e10 3.52927e10 9.26813e10; 1.32875e11 4.37443e10 2.52383e11 1.38473e11 9.21542e10 4.01596e10 1.87678e10 4.85015e10 3.18462e10 1.34421e11 1.32278e11 7.64208e10; 4.02192e10 8.53978e10 2.7165e11 2.60928e11 1.66622e11 6.90509e10 6.11021e10 7.4209e10 3.83357e10 4.13217e10 9.85306e10 1.2128e11; 1.08899e11 1.32486e11 1.40504e11 2.56435e11 1.04743e11 4.97146e10 2.61593e10 1.31924e10 9.83318e9 1.30628e10 1.92033e10 6.0277e10; 1.30205e11 6.69082e10 1.69318e11 3.55527e11 2.47113e11 7.0848e10 5.15894e10 4.81766e10 2.54292e10 3.79166e10 5.52614e10 6.1033e10; 5.58576e10 1.56367e11 1.20718e11 2.16985e11 1.21867e11 3.85491e10 2.25919e10 1.52055e10 1.91298e10 2.62181e10 1.02614e11 1.9726e11; 1.47502e11 1.07058e11 8.03002e10 3.34809e11 1.61188e11 1.71297e11 5.97542e10 3.09131e10 4.50593e10 3.51631e10 2.916e10 2.35518e10; 2.67062e10 2.61014e10 3.42343e11 2.49247e11 2.07801e11 7.09862e10 4.37962e10 3.49125e10 2.82597e10 1.25289e10 1.45619e10 3.90545e10; 7.22822e10 5.18832e10 1.80377e11 3.3575e11 9.10397e10 2.82208e10 1.30931e10 1.08112e10 1.16199e10 4.70431e10 6.41701e10 6.3936e10; 5.67648e10 4.16448e10 1.78235e11 2.25236e11 8.32118e10 6.75907e10 2.24294e10 1.51235e10 1.12026e10 7.81056e9 1.39864e10 4.76859e10; 4.99997e10 1.39251e11 3.30117e11 1.59918e11 1.89942e11 3.25339e10 1.82442e10 1.3049e10 6.8999e9 7.46323e9 6.4705e9 1.69854e10; 4.82656e10 1.01269e11 1.0273e11 1.41852e11 1.066e11 3.22125e10 1.26092e10 1.10765e10 1.09979e10 2.48072e10 2.33548e10 4.45046e10; 5.27904e10 1.11275e11 1.99515e11 9.96019e10 1.58147e11 6.54394e10 1.66398e10 9.81418e9 1.04207e10 1.73811e10 2.03299e10 8.46089e10; 3.77248e10 8.68234e10 1.80567e11 1.92266e11 1.86849e11 6.31498e10 4.03834e10 5.48389e10 3.49609e10 4.23343e10 1.21288e11 1.39139e11; 5.46998e10 1.06946e11 7.88659e10 1.61585e11 8.79379e10 1.78762e11 6.49711e10 1.91989e10 3.37755e10 1.70372e10 8.52561e10 1.15327e11; 6.03504e10 7.56864e10 3.88377e10 1.63598e11 1.17815e11 6.11712e10 3.45574e10 6.13613e10 2.13468e10 1.38318e10 5.22772e10 9.85306e10; 5.00774e10 1.48988e11 1.04397e11 3.64116e11 1.51926e11 6.76339e10 5.5823e10 3.28942e10 2.35742e10 3.08085e10 1.46111e11 1.16891e11; 9.56102e10 8.11296e10 3.54128e11 1.79556e11 1.26343e11 5.24707e10 2.13866e10 3.52711e10 2.18177e10 2.81189e10 4.24164e10 1.53446e11; 1.13409e11 8.73504e10 2.5183e11 2.51856e11 2.3106e11 1.33574e11 5.35965e11 4.58438e10 2.14911e10 2.06755e10 1.08349e11 2.4624e11; 1.77051e11 1.70735e11 1.55831e11 2.13935e11 1.40884e11 1.29021e11 6.48864e10 3.81784e10 3.95038e10 3.76514e10 6.48855e10 1.56349e11; 2.1981e11 1.55753e11 1.6905e11 2.50906e11 1.14445e11 5.42938e10 6.38496e10 3.07714e10 4.54395e10 3.70051e10 4.18539e10 1.36996e11; 1.36218e11 1.1569e11 2.74147e11 1.59944e11 1.62e11 1.14437e11 5.67994e10 3.21866e10 3.3518e10 3.14565e11 1.18256e11 9.67507e10; 8.86723e10 1.95454e11 2.48478e11 1.27164e11 8.20714e10 8.12333e10 9.7727e10 5.76202e10 3.12224e10 1.62683e11 1.46405e11 6.81523e10; 3.64954e10 3.40675e10 3.02892e11 2.56392e11 1.06574e11 3.30307e10 4.47042e10 4.24492e10 2.96888e10 2.27526e11 1.98746e11 2.14929e11; 1.93311e11 1.63063e11 1.38344e11 3.69464e11 2.0031e11 9.94637e10 4.25693e10 4.31093e10 2.3982e10 3.05173e10 3.14824e10 6.96125e10; 1.68843e11 1.48349e11 3.73559e11 1.96551e11 8.31514e10 1.10808e11 3.00145e10 3.89569e10 6.39792e10 1.21193e11 8.78688e10 1.1918e11; 9.77011e10 3.05796e10 1.00988e11 3.28553e11 1.32028e11 5.19091e10 3.04862e10 2.17331e10 1.3125e10 1.07006e10 1.93795e10 5.36846e10; 1.8392e10 9.31133e10 2.40028e11 8.10518e10 1.27846e11 7.15133e10 5.40613e10 2.81543e10 2.00215e10 3.1231e10 9.73996e10 5.69117e10; 8.23392e10 1.00094e11 1.72014e11 2.49886e11 7.15997e10 1.84499e11 6.21302e10 2.69646e10 1.50388e10 1.59952e10 2.03697e10 4.90199e10; 5.22893e10 9.43834e10 1.10091e11 2.71045e11 2.70873e11 1.0266e11 6.59508e10 2.04552e10 1.23085e10 1.45869e10 3.21538e10 2.40348e11; 5.8847e10 2.01321e11 1.61369e11 3.26004e11 1.78779e11 1.64246e11 1.1048e11 6.8809e10 3.20414e10 1.70683e10 2.81301e10 1.12946e11; 1.06903e11 5.12525e10 1.49023e11 1.52833e11 6.61651e10 4.5913e10 2.61075e10 2.15006e10 1.84162e10 3.5856e10 8.97134e10 1.72385e11; 5.69549e10 1.08691e11 3.024e11 1.56151e11 7.96435e10 9.24134e10 4.13597e10 5.28336e10 2.19326e10 3.84903e10 6.65453e10 1.97683e11; 1.02799e11 5.22461e10 1.30931e11 2.31293e11 8.66592e10 4.14979e10 4.90666e10 1.8379e10 5.81498e10 5.60218e10 5.15117e10 1.02056e11; 5.92186e10 1.22809e11 1.134e11 1.12173e11 1.28148e11 8.00885e10 1.57559e10 2.33245e10 3.10046e10 1.70234e10 4.98969e10 5.40804e10; 5.7983e10 4.3632e10 8.07149e10 1.97744e11 2.57221e11 1.37851e11 1.62985e11 4.87521e10 1.8468e10 4.79658e10 8.49917e10 5.34099e10; 5.24794e10 2.18238e11 1.12173e11 1.44245e11 1.29669e11 1.02384e11 6.59232e10 4.86086e10 4.92566e10 1.15655e11 1.89985e11 1.55477e11; 2.23171e11 1.09935e11 1.80922e11 1.24278e11 1.25375e11 2.64021e10 1.52539e10 1.37264e10 1.18593e10 1.70476e10 1.46923e10 7.23427e10; 6.13786e10 4.55795e10 1.22887e11 1.8239e11 1.29531e11 6.70032e10 4.40251e10 6.88954e10 4.23792e10 5.71277e10 9.11779e10 1.41575e11; 1.72869e11 6.06787e10 8.32637e10 6.02182e11 2.41082e11 3.93206e10 2.39363e10 1.63296e10 1.8792e10 2.78122e10 6.26141e10 2.16648e11; 4.66387e10 7.72934e10 2.47044e11 5.49288e11 1.21686e11 6.42125e10 6.18451e10 1.0179e11 7.33968e10 4.9534e10 4.29218e10 1.54803e11; 1.33056e11 9.12557e10 1.20943e11 9.05213e10 6.07306e10 5.46307e10 4.52987e10 1.82468e10 8.67715e9 3.2178e10 1.13452e11 9.98179e10; 1.78865e11 2.22057e11 2.27284e11 2.06919e11 2.36779e11 7.43213e10 7.34659e10 5.08378e10 9.11537e10 1.14817e11 1.9961e11 2.96093e11; 1.06255e11 8.21318e10 2.15412e11 1.30956e11 6.90509e10 8.19504e10 2.51752e10 2.00595e10 2.17979e10 1.83678e10 8.23893e10 8.48016e10; 2.27638e11 1.35752e11 2.96646e11 2.19145e11 2.49402e11 6.63552e10 7.18243e10 2.13693e10 1.37281e10 1.84248e10 1.43562e10 1.51572e10; 3.39155e10 1.80524e11 1.26438e11 1.68022e11 7.88486e10 2.37056e10 1.48867e10 1.23656e10 3.92299e10 6.02294e10 2.82269e10 8.87008e10; 7.5505e10 5.17882e10 2.25253e11 2.1975e11 1.53369e11 1.36408e11 6.63984e10 3.91833e10 2.42732e10 2.9033e10 3.00603e10 7.31376e10; 4.64573e10 6.64416e10 1.05313e11 2.4948e11 7.1928e10 4.38739e10 5.42169e10 1.54284e10 1.35285e10 2.88818e10 1.71063e10 5.59855e10], [2.79682e7 2.61588e7 2.63792e7 2.94532e7 2.83904e7 2.48218e7 2.48737e7 2.29052e7 2.09075e7 2.42903e7 2.72715e7 2.62701e7; 2.70983e7 2.45556e7 2.87981e7 2.96125e7 2.93276e7 2.65268e7 2.51277e7 2.45269e7 2.79855e7 2.56266e7 2.49376e7 2.64004e7; 2.84433e7 2.31089e7 2.64871e7 2.88203e7 2.71465e7 2.40142e7 2.40717e7 2.34054e7 2.41209e7 2.65768e7 2.5233e7 2.84946e7; 2.77781e7 2.43837e7 2.9693e7 2.89548e7 2.89093e7 2.46516e7 2.69046e7 2.59527e7 2.29034e7 2.26481e7 2.54804e7 2.81329e7; 2.7206e7 2.33462e7 3.09882e7 2.97645e7 2.70548e7 2.45053e7 2.38225e7 2.27999e7 2.25203e7 2.33198e7 2.61185e7 2.69172e7; 2.96584e7 2.65791e7 2.83981e7 2.85378e7 3.01022e7 2.58174e7 2.60284e7 2.51418e7 2.55823e7 2.39235e7 2.85696e7 2.75084e7; 2.76403e7 2.65386e7 2.92303e7 2.82138e7 2.71691e7 2.57091e7 2.5235e7 2.538e7 2.2662e7 2.56044e7 2.38343e7 2.82453e7; 2.652e7 2.57334e7 3.05356e7 2.91545e7 2.7306e7 2.42757e7 2.41232e7 2.30961e7 2.10795e7 2.26081e7 2.4157e7 2.4218e7; 2.47969e7 2.20873e7 2.80979e7 3.0817e7 2.88338e7 2.72778e7 2.58385e7 2.40782e7 2.41985e7 2.4558e7 2.51956e7 2.73195e7; 2.82719e7 2.37592e7 2.74185e7 2.93603e7 2.6356e7 2.49011e7 2.47242e7 2.37136e7 2.24702e7 2.14783e7 2.25809e7 2.40755e7; 2.69931e7 2.44152e7 2.92677e7 2.91555e7 2.72742e7 2.76472e7 2.58115e7 2.65174e7 2.39311e7 2.67256e7 2.72125e7 2.82004e7; 2.93727e7 2.54484e7 3.02573e7 2.78412e7 3.04652e7 2.81309e7 2.52113e7 2.39469e7 2.20759e7 2.2522e7 2.75534e7 2.57933e7; 2.55533e7 2.31956e7 2.84983e7 2.90675e7 2.98445e7 2.64724e7 2.59399e7 2.31913e7 2.19817e7 2.35445e7 2.38344e7 2.67879e7; 2.70076e7 2.34655e7 3.1448e7 2.85986e7 3.01171e7 2.75314e7 2.66296e7 2.64952e7 2.53217e7 2.84396e7 2.73058e7 2.95547e7; 2.88349e7 2.39524e7 2.97885e7 2.67148e7 2.68584e7 2.97911e7 2.68439e7 2.63256e7 2.31237e7 2.57732e7 2.56235e7 2.5101e7; 2.74339e7 2.57752e7 2.70513e7 2.8915e7 3.00423e7 2.87308e7 2.74263e7 2.66212e7 2.49726e7 2.32805e7 2.45787e7 2.66387e7; 2.60208e7 2.28633e7 2.99144e7 3.00699e7 2.98338e7 2.70383e7 2.63286e7 2.56604e7 2.26841e7 2.30855e7 2.44745e7 2.8137e7; 2.95347e7 2.65334e7 2.89453e7 2.79005e7 2.80118e7 2.53797e7 2.46456e7 2.36912e7 2.27649e7 2.41893e7 2.3812e7 2.62672e7; 2.95722e7 2.61598e7 2.83094e7 2.9876e7 2.88168e7 2.73747e7 2.56542e7 2.49958e7 2.55204e7 2.60147e7 2.61205e7 3.08251e7; 2.87538e7 2.72434e7 3.03851e7 2.94256e7 2.77924e7 2.60938e7 2.64046e7 2.48263e7 2.26641e7 2.2623e7 2.47541e7 2.76461e7; 2.9628e7 2.70746e7 2.86781e7 2.9726e7 2.92748e7 2.6993e7 2.50326e7 2.4765e7 2.41678e7 2.30877e7 2.19388e7 2.91078e7; 2.79398e7 2.63935e7 2.90678e7 2.93151e7 2.91911e7 2.82268e7 2.46192e7 2.36848e7 2.17768e7 2.20264e7 2.20489e7 2.67298e7; 2.475e7 2.43264e7 2.96817e7 2.78693e7 2.96511e7 2.62711e7 2.42058e7 2.26442e7 2.20553e7 2.39446e7 2.44968e7 2.76962e7; 2.83855e7 2.34251e7 3.04168e7 2.7836e7 2.74905e7 2.48658e7 2.36387e7 2.39613e7 2.405e7 2.68155e7 2.78098e7 2.71957e7; 2.56959e7 2.48083e7 3.04311e7 2.95273e7 2.95116e7 2.63277e7 2.67804e7 2.71902e7 2.48096e7 2.57552e7 2.68325e7 2.79775e7; 2.77118e7 2.61523e7 2.88523e7 2.93175e7 2.8005e7 2.52327e7 2.45081e7 2.27447e7 2.13471e7 2.27207e7 2.29152e7 2.58623e7; 2.82938e7 2.42822e7 2.90705e7 3.05013e7 3.03713e7 2.63679e7 2.63226e7 2.61374e7 2.3783e7 2.54052e7 2.57036e7 2.67715e7; 2.58383e7 2.63985e7 2.84229e7 2.92101e7 2.83816e7 2.48095e7 2.41899e7 2.30977e7 2.27239e7 2.38858e7 2.71784e7 2.96163e7; 2.89808e7 2.53994e7 2.73716e7 2.94015e7 2.89814e7 2.8437e7 2.65973e7 2.4969e7 2.43305e7 2.51111e7 2.41475e7 2.42225e7; 2.45963e7 2.22376e7 3.11175e7 2.94512e7 2.99348e7 2.63967e7 2.58305e7 2.52144e7 2.38924e7 2.26033e7 2.21865e7 2.55533e7; 2.68957e7 2.40086e7 2.93173e7 3.03728e7 2.77242e7 2.40498e7 2.26343e7 2.2191e7 2.16674e7 2.5393e7 2.56684e7 2.68896e7; 2.63236e7 2.3569e7 2.84469e7 2.88292e7 2.76182e7 2.62309e7 2.40943e7 2.30641e7 2.16777e7 2.13285e7 2.17863e7 2.56445e7; 2.5958e7 2.5958e7 2.96903e7 2.85528e7 2.93149e7 2.44047e7 2.36094e7 2.26833e7 2.03683e7 2.11762e7 2.02726e7 2.3301e7; 2.59283e7 2.48471e7 2.81042e7 2.82157e7 2.8208e7 2.43412e7 2.25872e7 2.22021e7 2.16368e7 2.42905e7 2.35431e7 2.59938e7; 2.62837e7 2.36071e7 2.98013e7 2.72094e7 2.92336e7 2.60105e7 2.32411e7 2.19321e7 2.12904e7 2.34335e7 2.29396e7 2.72364e7; 2.55374e7 2.51346e7 2.88131e7 2.88423e7 2.97415e7 2.5967e7 2.57221e7 2.63664e7 2.44264e7 2.54223e7 2.76491e7 2.90059e7; 2.63774e7 2.53047e7 2.67352e7 2.80333e7 2.75109e7 2.86022e7 2.66072e7 2.37298e7 2.3801e7 2.34095e7 2.57786e7 2.8335e7; 2.65911e7 2.48059e7 2.55834e7 2.84789e7 2.84458e7 2.58878e7 2.51993e7 2.67103e7 2.32601e7 2.28642e7 2.4675e7 2.77906e7; 2.6257e7 2.60584e7 2.82841e7 3.04812e7 2.90501e7 2.61791e7 2.64652e7 2.50524e7 2.35725e7 2.48151e7 2.78436e7 2.85515e7; 2.78728e7 2.44576e7 3.13742e7 2.87926e7 2.87275e7 2.55641e7 2.40311e7 2.48995e7 2.32788e7 2.46724e7 2.50403e7 2.86636e7; 2.84555e7 2.52369e7 2.99868e7 2.94333e7 3.03246e7 2.75942e7 3.11141e7 2.59895e7 2.33406e7 2.3964e7 2.60786e7 3.02904e7; 2.92246e7 2.66179e7 2.88105e7 2.90507e7 2.9052e7 2.77956e7 2.67829e7 2.55176e7 2.46388e7 2.55066e7 2.58926e7 2.88086e7; 2.98375e7 2.63327e7 2.93548e7 2.95074e7 2.83717e7 2.56919e7 2.66834e7 2.48902e7 2.49096e7 2.54442e7 2.47113e7 2.87642e7; 2.88173e7 2.582e7 3.01992e7 2.83599e7 2.93327e7 2.75353e7 2.65941e7 2.50607e7 2.44161e7 2.99846e7 2.75492e7 2.80806e7; 2.76352e7 2.66885e7 3.02878e7 2.77897e7 2.7592e7 2.67251e7 2.77926e7 2.66255e7 2.43057e7 2.8298e7 2.80144e7 2.69827e7; 2.54302e7 2.30194e7 3.06613e7 2.9337e7 2.81134e7 2.44686e7 2.59213e7 2.58039e7 2.37569e7 3.00537e7 2.87444e7 2.9852e7; 2.95571e7 2.62799e7 2.78693e7 3.03823e7 2.92531e7 2.70915e7 2.58397e7 2.56304e7 2.36063e7 2.49144e7 2.43163e7 2.694e7; 2.89901e7 2.55057e7 3.09139e7 2.90703e7 2.76258e7 2.70948e7 2.49363e7 2.55702e7 2.57592e7 2.82643e7 2.67893e7 2.80744e7; 2.77968e7 2.27794e7 2.69444e7 3.03485e7 2.88297e7 2.55802e7 2.49861e7 2.40953e7 2.20692e7 2.22041e7 2.30413e7 2.62742e7; 2.36328e7 2.4035e7 2.93448e7 2.65131e7 2.86809e7 2.63978e7 2.62666e7 2.46895e7 2.30952e7 2.49559e7 2.67192e7 2.65993e7; 2.72969e7 2.51825e7 2.90303e7 2.96379e7 2.70705e7 2.85512e7 2.66589e7 2.46172e7 2.24247e7 2.32487e7 2.31003e7 2.61556e7; 2.62669e7 2.51294e7 2.82624e7 2.96791e7 3.05511e7 2.71228e7 2.63932e7 2.392e7 2.19131e7 2.2943e7 2.39888e7 2.98822e7; 2.6569e7 2.5524e7 2.90406e7 3.01211e7 2.97169e7 2.81271e7 2.82475e7 2.68555e7 2.42574e7 2.34529e7 2.3992e7 2.80754e7; 2.7835e7 2.37162e7 2.90069e7 2.81921e7 2.6992e7 2.52558e7 2.45736e7 2.40153e7 2.29335e7 2.49914e7 2.57253e7 2.93522e7; 2.61913e7 2.57075e7 3.04182e7 2.80994e7 2.71905e7 2.69173e7 2.57131e7 2.63463e7 2.32856e7 2.53569e7 2.56795e7 2.97962e7; 2.81054e7 2.40897e7 2.8371e7 2.91252e7 2.77055e7 2.5051e7 2.60787e7 2.36334e7 2.49085e7 2.64876e7 2.55154e7 2.80521e7; 2.62747e7 2.57716e7 2.842e7 2.74752e7 2.8119e7 2.60537e7 2.31805e7 2.4058e7 2.4006e7 2.34179e7 2.52001e7 2.6049e7; 2.66098e7 2.36512e7 2.75254e7 2.87649e7 2.97033e7 2.78852e7 2.92377e7 2.60094e7 2.2934e7 2.52733e7 2.66671e7 2.61856e7; 2.60451e7 2.7543e7 2.83301e7 2.81947e7 2.85752e7 2.7263e7 2.65844e7 2.61371e7 2.53785e7 2.73935e7 2.85853e7 2.89846e7; 3.00233e7 2.57516e7 2.94679e7 2.78382e7 2.84846e7 2.37853e7 2.31257e7 2.27236e7 2.17744e7 2.3427e7 2.23832e7 2.72165e7; 2.68115e7 2.36762e7 2.85769e7 2.86547e7 2.86751e7 2.60236e7 2.55414e7 2.70342e7 2.50305e7 2.65798e7 2.68813e7 2.89169e7; 2.94312e7 2.43385e7 2.70942e7 3.18082e7 2.97239e7 2.49195e7 2.42494e7 2.32839e7 2.29486e7 2.46205e7 2.58765e7 2.98546e7; 2.59423e7 2.48539e7 3.03772e7 3.16568e7 2.8621e7 2.59447e7 2.67705e7 2.7083e7 2.59353e7 2.59776e7 2.49278e7 2.9066e7; 2.81837e7 2.49219e7 2.85078e7 2.69464e7 2.67841e7 2.57506e7 2.58745e7 2.35617e7 2.1005e7 2.37224e7 2.71737e7 2.80029e7; 2.69121e7 2.67477e7 3.0105e7 2.91055e7 3.0269e7 2.64878e7 2.72539e7 2.6271e7 2.60551e7 2.76576e7 2.85505e7 3.06086e7; 2.81094e7 2.51469e7 3.01347e7 2.7915e7 2.71606e7 2.66537e7 2.43864e7 2.36953e7 2.32956e7 2.35569e7 2.56813e7 2.76552e7; 2.94905e7 2.63309e7 3.09921e7 2.92698e7 3.04022e7 2.6192e7 2.71055e7 2.40172e7 2.22171e7 2.34986e7 2.23296e7 2.31417e7; 2.46302e7 2.67451e7 2.85317e7 2.86747e7 2.7327e7 2.35243e7 2.30692e7 2.2311e7 2.39519e7 2.6731e7 2.40465e7 2.74936e7; 2.733e7 2.38614e7 3.00886e7 2.92853e7 2.90344e7 2.79628e7 2.67306e7 2.55046e7 2.36116e7 2.47016e7 2.41581e7 2.64062e7; 2.60285e7 2.43439e7 2.81629e7 2.96509e7 2.69224e7 2.51927e7 2.60083e7 2.31731e7 2.21406e7 2.44403e7 2.27681e7 2.62123e7]]"
   ]
  },
  {
   "cell_type": "code",
   "execution_count": 26,
   "metadata": {},
   "outputs": [
    {
     "name": "stdout",
     "output_type": "stream",
     "text": [
      "search: \u001b[0m\u001b[1mh\u001b[22m\u001b[0m\u001b[1mc\u001b[22m\u001b[0m\u001b[1ma\u001b[22m\u001b[0m\u001b[1mt\u001b[22m \u001b[0m\u001b[1mh\u001b[22mv\u001b[0m\u001b[1mc\u001b[22m\u001b[0m\u001b[1ma\u001b[22m\u001b[0m\u001b[1mt\u001b[22m Mat\u001b[0m\u001b[1mh\u001b[22m\u001b[0m\u001b[1mC\u001b[22monst\u001b[0m\u001b[1ma\u001b[22mn\u001b[0m\u001b[1mt\u001b[22ms @t\u001b[0m\u001b[1mh\u001b[22mread\u001b[0m\u001b[1mc\u001b[22m\u001b[0m\u001b[1ma\u001b[22mll catc\u001b[0m\u001b[1mh\u001b[22m_ba\u001b[0m\u001b[1mc\u001b[22mktr\u001b[0m\u001b[1ma\u001b[22mce\n",
      "\n"
     ]
    },
    {
     "data": {
      "text/latex": [
       "\\begin{verbatim}\n",
       "hcat(A...)\n",
       "\\end{verbatim}\n",
       "Concatenate along dimension 2.\n",
       "\n",
       "\\section{Examples}\n",
       "\\begin{verbatim}\n",
       "julia> a = [1; 2; 3; 4; 5]\n",
       "5-element Array{Int64,1}:\n",
       " 1\n",
       " 2\n",
       " 3\n",
       " 4\n",
       " 5\n",
       "\n",
       "julia> b = [6 7; 8 9; 10 11; 12 13; 14 15]\n",
       "5×2 Array{Int64,2}:\n",
       "  6   7\n",
       "  8   9\n",
       " 10  11\n",
       " 12  13\n",
       " 14  15\n",
       "\n",
       "julia> hcat(a,b)\n",
       "5×3 Array{Int64,2}:\n",
       " 1   6   7\n",
       " 2   8   9\n",
       " 3  10  11\n",
       " 4  12  13\n",
       " 5  14  15\n",
       "\n",
       "julia> c = ([1; 2; 3], [4; 5; 6])\n",
       "([1, 2, 3], [4, 5, 6])\n",
       "\n",
       "julia> hcat(c...)\n",
       "3×2 Array{Int64,2}:\n",
       " 1  4\n",
       " 2  5\n",
       " 3  6\n",
       "\\end{verbatim}\n"
      ],
      "text/markdown": [
       "```\n",
       "hcat(A...)\n",
       "```\n",
       "\n",
       "Concatenate along dimension 2.\n",
       "\n",
       "# Examples\n",
       "\n",
       "```jldoctest\n",
       "julia> a = [1; 2; 3; 4; 5]\n",
       "5-element Array{Int64,1}:\n",
       " 1\n",
       " 2\n",
       " 3\n",
       " 4\n",
       " 5\n",
       "\n",
       "julia> b = [6 7; 8 9; 10 11; 12 13; 14 15]\n",
       "5×2 Array{Int64,2}:\n",
       "  6   7\n",
       "  8   9\n",
       " 10  11\n",
       " 12  13\n",
       " 14  15\n",
       "\n",
       "julia> hcat(a,b)\n",
       "5×3 Array{Int64,2}:\n",
       " 1   6   7\n",
       " 2   8   9\n",
       " 3  10  11\n",
       " 4  12  13\n",
       " 5  14  15\n",
       "\n",
       "julia> c = ([1; 2; 3], [4; 5; 6])\n",
       "([1, 2, 3], [4, 5, 6])\n",
       "\n",
       "julia> hcat(c...)\n",
       "3×2 Array{Int64,2}:\n",
       " 1  4\n",
       " 2  5\n",
       " 3  6\n",
       "```\n"
      ],
      "text/plain": [
       "\u001b[36m  hcat(A...)\u001b[39m\n",
       "\n",
       "  Concatenate along dimension 2.\n",
       "\n",
       "\u001b[1m  Examples\u001b[22m\n",
       "\u001b[1m  ≡≡≡≡≡≡≡≡≡≡\u001b[22m\n",
       "\n",
       "\u001b[36m  julia> a = [1; 2; 3; 4; 5]\u001b[39m\n",
       "\u001b[36m  5-element Array{Int64,1}:\u001b[39m\n",
       "\u001b[36m   1\u001b[39m\n",
       "\u001b[36m   2\u001b[39m\n",
       "\u001b[36m   3\u001b[39m\n",
       "\u001b[36m   4\u001b[39m\n",
       "\u001b[36m   5\u001b[39m\n",
       "\u001b[36m  \u001b[39m\n",
       "\u001b[36m  julia> b = [6 7; 8 9; 10 11; 12 13; 14 15]\u001b[39m\n",
       "\u001b[36m  5×2 Array{Int64,2}:\u001b[39m\n",
       "\u001b[36m    6   7\u001b[39m\n",
       "\u001b[36m    8   9\u001b[39m\n",
       "\u001b[36m   10  11\u001b[39m\n",
       "\u001b[36m   12  13\u001b[39m\n",
       "\u001b[36m   14  15\u001b[39m\n",
       "\u001b[36m  \u001b[39m\n",
       "\u001b[36m  julia> hcat(a,b)\u001b[39m\n",
       "\u001b[36m  5×3 Array{Int64,2}:\u001b[39m\n",
       "\u001b[36m   1   6   7\u001b[39m\n",
       "\u001b[36m   2   8   9\u001b[39m\n",
       "\u001b[36m   3  10  11\u001b[39m\n",
       "\u001b[36m   4  12  13\u001b[39m\n",
       "\u001b[36m   5  14  15\u001b[39m\n",
       "\u001b[36m  \u001b[39m\n",
       "\u001b[36m  julia> c = ([1; 2; 3], [4; 5; 6])\u001b[39m\n",
       "\u001b[36m  ([1, 2, 3], [4, 5, 6])\u001b[39m\n",
       "\u001b[36m  \u001b[39m\n",
       "\u001b[36m  julia> hcat(c...)\u001b[39m\n",
       "\u001b[36m  3×2 Array{Int64,2}:\u001b[39m\n",
       "\u001b[36m   1  4\u001b[39m\n",
       "\u001b[36m   2  5\u001b[39m\n",
       "\u001b[36m   3  6\u001b[39m"
      ]
     },
     "execution_count": 26,
     "metadata": {},
     "output_type": "execute_result"
    }
   ],
   "source": [
    "? hcat\n"
   ]
  },
  {
   "cell_type": "code",
   "execution_count": 37,
   "metadata": {},
   "outputs": [
    {
     "data": {
      "text/plain": [
       "5×36 Array{Int64,2}:\n",
       " 6  3  5  3  4  5  5  5  1  4  2  6  5  …  5  2  1  2  5  1  6  4  4  5  6  3\n",
       " 1  2  5  6  6  6  5  4  6  6  3  1  2     2  2  1  1  2  2  4  6  6  1  5  5\n",
       " 3  4  5  4  6  2  6  6  2  1  2  4  6     6  1  4  3  1  5  6  1  1  5  1  4\n",
       " 5  3  4  2  2  4  6  3  5  1  5  6  6     6  2  3  4  3  3  6  6  2  4  3  6\n",
       " 5  6  3  2  4  1  1  1  3  6  5  2  3     3  6  3  5  1  6  6  6  1  1  5  4"
      ]
     },
     "execution_count": 37,
     "metadata": {},
     "output_type": "execute_result"
    }
   ],
   "source": [
    "a = rand(1:6, 5, 12)\n",
    "b = rand(1:6, 5, 12)\n",
    "a = hcat(a, b)\n",
    "hcat(a, b)"
   ]
  },
  {
   "cell_type": "code",
   "execution_count": 88,
   "metadata": {},
   "outputs": [
    {
     "data": {
      "text/plain": [
       "12×69 Array{Float64,2}:\n",
       " -0.515768    -0.0564757  -1.37979   …   0.871966  -1.57779     0.258516 \n",
       " -1.26583      2.37773    -0.643465     -0.635158  -1.12423     0.600472 \n",
       " -1.78199      1.92901     1.44342      -0.896702   0.953236    0.0291429\n",
       "  0.705144     0.153041    0.539027     -0.639767   0.582495   -0.038576 \n",
       "  1.13192     -0.525777    0.159051     -2.02554   -0.635262   -1.04556  \n",
       " -0.894092    -0.504023    0.739317  …  -2.63033    0.0480722  -0.105002 \n",
       " -0.214263     0.45297     0.459727      0.547206  -0.445553   -1.36986  \n",
       " -0.813095    -2.44017    -0.593532      0.156976  -0.123292   -0.273323 \n",
       "  0.135802    -1.52598     0.372836     -0.499107   0.46636    -0.736233 \n",
       "  0.490605     0.119836   -0.267126     -0.478072   0.521397    0.436316 \n",
       "  0.446558    -1.64257     0.244516  …  -1.58394    0.441378   -1.78159  \n",
       " -0.00946125  -1.14058    -0.89985      -2.04081    1.03561    -0.013168 "
      ]
     },
     "execution_count": 88,
     "metadata": {},
     "output_type": "execute_result"
    }
   ],
   "source": [
    "Z_shifted"
   ]
  },
  {
   "cell_type": "code",
   "execution_count": 1,
   "metadata": {},
   "outputs": [
    {
     "name": "stdout",
     "output_type": "stream",
     "text": [
      "search: \u001b[0m\u001b[1mU\u001b[22mInt \u001b[0m\u001b[1mU\u001b[22mnion \u001b[0m\u001b[1mU\u001b[22mInt8 \u001b[0m\u001b[1mu\u001b[22msing \u001b[0m\u001b[1mu\u001b[22mndef \u001b[0m\u001b[1mU\u001b[22mInt64 \u001b[0m\u001b[1mU\u001b[22mInt32 \u001b[0m\u001b[1mU\u001b[22mInt16 \u001b[0m\u001b[1mu\u001b[22mperm \u001b[0m\u001b[1mu\u001b[22mnion \u001b[0m\u001b[1mU\u001b[22mInt128\n",
      "\n",
      "Couldn't find \u001b[36mU\u001b[39m\n",
      "Perhaps you meant !, %, &, *, +, -, /, :, <, >, \\, ^, |, ~, ÷, π, ℯ, ∈, ∉ or ∋\n"
     ]
    },
    {
     "data": {
      "text/latex": [
       "No documentation found.\n",
       "\n",
       "Binding \\texttt{U} does not exist.\n",
       "\n"
      ],
      "text/markdown": [
       "No documentation found.\n",
       "\n",
       "Binding `U` does not exist.\n"
      ],
      "text/plain": [
       "  No documentation found.\n",
       "\n",
       "  Binding \u001b[36mU\u001b[39m does not exist."
      ]
     },
     "execution_count": 1,
     "metadata": {},
     "output_type": "execute_result"
    }
   ],
   "source": []
  },
  {
   "cell_type": "code",
   "execution_count": null,
   "metadata": {},
   "outputs": [],
   "source": [
    "done\n",
    "    KNN_identification\n",
    "    KNN_sampling\n",
    "    cholesky_decomp\n",
    "    convert_data_to_monthly\n",
    "    monthly_gen\n",
    "    monthly_main\n",
    "    combined_generatorcho\n",
    "    clean_data\n",
    "to do\n",
    "\n",
    "    \n",
    "    script_example"
   ]
  }
 ],
 "metadata": {
  "kernelspec": {
   "display_name": "Julia 1.0.3",
   "language": "julia",
   "name": "julia-1.0"
  },
  "language_info": {
   "file_extension": ".jl",
   "mimetype": "application/julia",
   "name": "julia",
   "version": "1.0.3"
  }
 },
 "nbformat": 4,
 "nbformat_minor": 2
}
